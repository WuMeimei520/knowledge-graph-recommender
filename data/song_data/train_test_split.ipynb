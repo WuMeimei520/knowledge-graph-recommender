{
 "cells": [
  {
   "cell_type": "code",
   "execution_count": null,
   "metadata": {},
   "outputs": [],
   "source": [
    "import pickle\n",
    "import pandas as pd\n",
    "import numpy as np\n",
    "import math\n",
    "import random\n",
    "from tqdm import tqdm\n",
    "from IPython.core.interactiveshell import InteractiveShell\n",
    "InteractiveShell.ast_node_interactivity = \"all\""
   ]
  },
  {
   "cell_type": "code",
   "execution_count": null,
   "metadata": {},
   "outputs": [],
   "source": [
    "with open('song_id.txt', 'rb') as handle:\n",
    "    unserialized_song_id = pickle.load(handle)\n",
    "\n",
    "with open('user_song.dict', 'rb') as handle:\n",
    "    unserialized_user_song = pickle.load(handle)\n",
    "    \n",
    "with open('user_song_tuple.txt', 'rb') as handle:\n",
    "    unserialized_user_song_tuple = pickle.load(handle)"
   ]
  },
  {
   "cell_type": "code",
   "execution_count": null,
   "metadata": {},
   "outputs": [],
   "source": [
    "user_song_train = {}\n",
    "user_song_test = {}\n",
    "user_song_tuple_train_pos = []\n",
    "user_song_tuple_train_neg = []\n",
    "user_song_tuple_test_pos = []\n",
    "user_song_tuple_test_neg = []\n",
    "\n",
    "for user in tqdm(unserialized_user_song):\n",
    "    # pos\n",
    "    pos_songs = unserialized_user_song[user]\n",
    "    random.shuffle(pos_songs)\n",
    "    cut = int(len(pos_songs)*0.8)\n",
    "    user_song_train[user] = pos_songs[:cut]\n",
    "    for song in pos_songs[:cut]:\n",
    "        user_song_tuple_train_pos.append([user, song])\n",
    "    user_song_test[user] = songs[cut:]\n",
    "    for song in pos_songs[cut:]:\n",
    "        user_song_tuple_test_pos.append([user, song])\n",
    "    # neg\n",
    "    pos_song_set = set(pos_songs)\n",
    "    random.shuffle(unserialized_song_id)\n",
    "    j = 0\n",
    "    for i in range(len(user_song_train[user])*4):\n",
    "        while j < len(unserialized_song_id) and unserialized_song_id[j] in pos_song_set:\n",
    "            j += 1\n",
    "        if j >= len(unserialized_song_id):\n",
    "            break\n",
    "        user_song_tuple_train_neg.append([user, unserialized_song_id[i]])\n",
    "        j += 1\n",
    "    for i in range(len(user_song_test[user])*100):\n",
    "        while j < len(unserialized_song_id) and unserialized_song_id[j] in pos_song_set:\n",
    "            j += 1\n",
    "        if j >= len(unserialized_song_id):\n",
    "            break\n",
    "        user_song_tuple_test_neg.append([user, unserialized_song_id[i]])\n",
    "        j += 1"
   ]
  },
  {
   "cell_type": "code",
   "execution_count": null,
   "metadata": {},
   "outputs": [],
   "source": [
    "with open('user_song_train.dict', 'wb') as handle:\n",
    "    pickle.dump(user_song_train, handle, protocol=pickle.HIGHEST_PROTOCOL)\n",
    "with open('user_song_test.dict', 'wb') as handle:\n",
    "    pickle.dump(user_song_test, handle, protocol=pickle.HIGHEST_PROTOCOL)\n",
    "with open('user_song_tuple_train_pos.txt', 'wb') as handle:\n",
    "    pickle.dump(user_song_tuple_train_pos, handle, protocol=pickle.HIGHEST_PROTOCOL)\n",
    "with open('user_song_tuple_train_neg.txt', 'wb') as handle:\n",
    "    pickle.dump(user_song_tuple_train_neg, handle, protocol=pickle.HIGHEST_PROTOCOL)\n",
    "with open('user_song_tuple_test_pos.txt', 'wb') as handle:\n",
    "    pickle.dump(user_song_tuple_test_pos, handle, protocol=pickle.HIGHEST_PROTOCOL)\n",
    "with open('user_song_tuple_test_neg.txt', 'wb') as handle:\n",
    "    pickle.dump(user_song_tuple_test_neg, handle, protocol=pickle.HIGHEST_PROTOCOL)"
   ]
  },
  {
   "cell_type": "code",
   "execution_count": null,
   "metadata": {},
   "outputs": [],
   "source": []
  }
 ],
 "metadata": {
  "kernelspec": {
   "display_name": "Python 3",
   "language": "python",
   "name": "python3"
  },
  "language_info": {
   "codemirror_mode": {
    "name": "ipython",
    "version": 3
   },
   "file_extension": ".py",
   "mimetype": "text/x-python",
   "name": "python",
   "nbconvert_exporter": "python",
   "pygments_lexer": "ipython3",
   "version": "3.7.3"
  },
  "toc": {
   "base_numbering": 1,
   "nav_menu": {},
   "number_sections": true,
   "sideBar": true,
   "skip_h1_title": false,
   "title_cell": "Table of Contents",
   "title_sidebar": "Contents",
   "toc_cell": false,
   "toc_position": {},
   "toc_section_display": true,
   "toc_window_display": false
  }
 },
 "nbformat": 4,
 "nbformat_minor": 2
}
