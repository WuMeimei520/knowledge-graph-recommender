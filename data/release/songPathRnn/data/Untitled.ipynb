{
 "cells": [
  {
   "cell_type": "code",
   "execution_count": 2,
   "metadata": {},
   "outputs": [],
   "source": [
    "import pandas as pd\n",
    "import pickle"
   ]
  },
  {
   "cell_type": "code",
   "execution_count": 3,
   "metadata": {},
   "outputs": [],
   "source": [
    "from IPython.core.interactiveshell import InteractiveShell\n",
    "InteractiveShell.ast_node_interactivity = \"all\""
   ]
  },
  {
   "cell_type": "code",
   "execution_count": 12,
   "metadata": {},
   "outputs": [
    {
     "data": {
      "text/html": [
       "<div>\n",
       "<style scoped>\n",
       "    .dataframe tbody tr th:only-of-type {\n",
       "        vertical-align: middle;\n",
       "    }\n",
       "\n",
       "    .dataframe tbody tr th {\n",
       "        vertical-align: top;\n",
       "    }\n",
       "\n",
       "    .dataframe thead th {\n",
       "        text-align: right;\n",
       "    }\n",
       "</style>\n",
       "<table border=\"1\" class=\"dataframe\">\n",
       "  <thead>\n",
       "    <tr style=\"text-align: right;\">\n",
       "      <th></th>\n",
       "      <th>0</th>\n",
       "      <th>1</th>\n",
       "      <th>2</th>\n",
       "      <th>3</th>\n",
       "    </tr>\n",
       "  </thead>\n",
       "  <tbody>\n",
       "    <tr>\n",
       "      <th>0</th>\n",
       "      <td>u34012</td>\n",
       "      <td>s11434</td>\n",
       "      <td>r1-s1490165-r5-t36-r2-s361354-r4-u16522-r1</td>\n",
       "      <td>-1</td>\n",
       "    </tr>\n",
       "    <tr>\n",
       "      <th>1</th>\n",
       "      <td>u18834</td>\n",
       "      <td>s995602</td>\n",
       "      <td>r1-s70948-r4-u5841-r1-s1402363-r6-p1813-r3</td>\n",
       "      <td>-1</td>\n",
       "    </tr>\n",
       "    <tr>\n",
       "      <th>2</th>\n",
       "      <td>u14952</td>\n",
       "      <td>s2257809</td>\n",
       "      <td>r1-s158271-r4-u29841-r1</td>\n",
       "      <td>-1</td>\n",
       "    </tr>\n",
       "    <tr>\n",
       "      <th>3</th>\n",
       "      <td>u26057</td>\n",
       "      <td>s1350203</td>\n",
       "      <td>r1-s244859-r5-t0-r2</td>\n",
       "      <td>-1</td>\n",
       "    </tr>\n",
       "    <tr>\n",
       "      <th>4</th>\n",
       "      <td>u31915</td>\n",
       "      <td>s1284859</td>\n",
       "      <td>r1-s1503174-r4-u6984-r1-s538364-r6-p6546-r3</td>\n",
       "      <td>-1</td>\n",
       "    </tr>\n",
       "  </tbody>\n",
       "</table>\n",
       "</div>"
      ],
      "text/plain": [
       "        0         1                                            2  3\n",
       "0  u34012    s11434   r1-s1490165-r5-t36-r2-s361354-r4-u16522-r1 -1\n",
       "1  u18834   s995602   r1-s70948-r4-u5841-r1-s1402363-r6-p1813-r3 -1\n",
       "2  u14952  s2257809                      r1-s158271-r4-u29841-r1 -1\n",
       "3  u26057  s1350203                          r1-s244859-r5-t0-r2 -1\n",
       "4  u31915  s1284859  r1-s1503174-r4-u6984-r1-s538364-r6-p6546-r3 -1"
      ]
     },
     "execution_count": 12,
     "metadata": {},
     "output_type": "execute_result"
    },
    {
     "data": {
      "text/html": [
       "<div>\n",
       "<style scoped>\n",
       "    .dataframe tbody tr th:only-of-type {\n",
       "        vertical-align: middle;\n",
       "    }\n",
       "\n",
       "    .dataframe tbody tr th {\n",
       "        vertical-align: top;\n",
       "    }\n",
       "\n",
       "    .dataframe thead th {\n",
       "        text-align: right;\n",
       "    }\n",
       "</style>\n",
       "<table border=\"1\" class=\"dataframe\">\n",
       "  <thead>\n",
       "    <tr style=\"text-align: right;\">\n",
       "      <th></th>\n",
       "      <th>0</th>\n",
       "      <th>1</th>\n",
       "      <th>2</th>\n",
       "      <th>3</th>\n",
       "    </tr>\n",
       "  </thead>\n",
       "  <tbody>\n",
       "    <tr>\n",
       "      <th>0</th>\n",
       "      <td>u26688</td>\n",
       "      <td>s649006</td>\n",
       "      <td>r1-s649006-r6-p222937-r3</td>\n",
       "      <td>1</td>\n",
       "    </tr>\n",
       "    <tr>\n",
       "      <th>1</th>\n",
       "      <td>u13531</td>\n",
       "      <td>s412109</td>\n",
       "      <td>r1-s412109-r6-p159266-r3</td>\n",
       "      <td>1</td>\n",
       "    </tr>\n",
       "    <tr>\n",
       "      <th>2</th>\n",
       "      <td>u33678</td>\n",
       "      <td>s167323</td>\n",
       "      <td>r1-s518291-r4-u4786-r1</td>\n",
       "      <td>1</td>\n",
       "    </tr>\n",
       "    <tr>\n",
       "      <th>3</th>\n",
       "      <td>u13659</td>\n",
       "      <td>s26841</td>\n",
       "      <td>r1-s172654-r4-u725-r1</td>\n",
       "      <td>1</td>\n",
       "    </tr>\n",
       "    <tr>\n",
       "      <th>4</th>\n",
       "      <td>u7810</td>\n",
       "      <td>s1305522</td>\n",
       "      <td>r1-s48169-r4-u2159-r1</td>\n",
       "      <td>1</td>\n",
       "    </tr>\n",
       "  </tbody>\n",
       "</table>\n",
       "</div>"
      ],
      "text/plain": [
       "        0         1                         2  3\n",
       "0  u26688   s649006  r1-s649006-r6-p222937-r3  1\n",
       "1  u13531   s412109  r1-s412109-r6-p159266-r3  1\n",
       "2  u33678   s167323    r1-s518291-r4-u4786-r1  1\n",
       "3  u13659    s26841     r1-s172654-r4-u725-r1  1\n",
       "4   u7810  s1305522     r1-s48169-r4-u2159-r1  1"
      ]
     },
     "execution_count": 12,
     "metadata": {},
     "output_type": "execute_result"
    }
   ],
   "source": [
    "neg = pd.read_csv('input/negative_matrix.tsv.translated', header=None, sep='\\t', engine='python')\n",
    "neg.head()\n",
    "test = pd.read_csv('input/test_matrix.tsv.translated', header=None, sep='\\t', engine='python')\n",
    "test.head()"
   ]
  },
  {
   "cell_type": "code",
   "execution_count": null,
   "metadata": {},
   "outputs": [],
   "source": []
  }
 ],
 "metadata": {
  "kernelspec": {
   "display_name": "Python 3",
   "language": "python",
   "name": "python3"
  },
  "language_info": {
   "codemirror_mode": {
    "name": "ipython",
    "version": 3
   },
   "file_extension": ".py",
   "mimetype": "text/x-python",
   "name": "python",
   "nbconvert_exporter": "python",
   "pygments_lexer": "ipython3",
   "version": "3.7.3"
  },
  "toc": {
   "base_numbering": 1,
   "nav_menu": {},
   "number_sections": true,
   "sideBar": true,
   "skip_h1_title": false,
   "title_cell": "Table of Contents",
   "title_sidebar": "Contents",
   "toc_cell": false,
   "toc_position": {},
   "toc_section_display": true,
   "toc_window_display": false
  }
 },
 "nbformat": 4,
 "nbformat_minor": 2
}
