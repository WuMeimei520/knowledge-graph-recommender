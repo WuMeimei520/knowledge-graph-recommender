{
 "cells": [
  {
   "cell_type": "code",
   "execution_count": null,
   "metadata": {},
   "outputs": [],
   "source": [
    "import pickle\n",
    "import pandas as pd\n",
    "import numpy as np\n",
    "import math\n",
    "import random\n",
    "from tqdm import tqdm"
   ]
  },
  {
   "cell_type": "markdown",
   "metadata": {},
   "source": [
    "## Load Data"
   ]
  },
  {
   "cell_type": "code",
   "execution_count": null,
   "metadata": {},
   "outputs": [],
   "source": [
    "with open('song_user.dict', 'rb') as handle:\n",
    "    unserialized_song_user = pickle.load(handle) #dict\n",
    "    \n",
    "with open('user_song.dict', 'rb') as handle:\n",
    "    unserialized_user_song = pickle.load(handle) #dict\n",
    "    \n",
    "with open('song_person.dict', 'rb') as handle:\n",
    "    unserialized_song_person = pickle.load(handle) #dict\n",
    "    \n",
    "with open('person_song.dict', 'rb') as handle:\n",
    "    unserialized_person_song = pickle.load(handle) #dict\n",
    "\n",
    "with open('song_id.txt', 'rb') as handle:\n",
    "    unserialized_song_id = pickle.load(handle) #numpy.ndarray\n",
    "    \n",
    "with open('user_id.txt', 'rb') as handle:\n",
    "    unserialized_user_id = pickle.load(handle) #numpy.ndarray\n",
    "    \n",
    "with open('person_id.txt', 'rb') as handle:\n",
    "    unserialized_person_id = pickle.load(handle) #numpy.ndarray"
   ]
  },
  {
   "cell_type": "markdown",
   "metadata": {},
   "source": [
    "## Sort Nodes By Degree"
   ]
  },
  {
   "cell_type": "code",
   "execution_count": null,
   "metadata": {},
   "outputs": [],
   "source": [
    "# key: song, value: number of users listening to it + number of person relating to its creation\n",
    "song_degree_dict = {}\n",
    "for (k,v) in unserialized_song_user.items():\n",
    "    song_degree_dict[k] = v\n",
    "for (k,v) in unserialized_song_person.items():\n",
    "    if k in song_degree_dict.keys():\n",
    "        song_degree_dict[k] = song_degree_dict[k] + v\n",
    "    else:\n",
    "        song_degree_dict[k] = v\n",
    "song_degree = [(k,len(v)) for (k,v) in song_degree_dict.items()]\n",
    "print('There are %d songs in the network' % len(song_degree))\n",
    "\n",
    "# sort by degree in descending order\n",
    "song_degree.sort(key = lambda x : -x[1])"
   ]
  },
  {
   "cell_type": "code",
   "execution_count": null,
   "metadata": {},
   "outputs": [],
   "source": [
    "print(len(unserialized_song_user))\n",
    "print(len(unserialized_song_person))\n",
    "print(len(unserialized_song_id))"
   ]
  },
  {
   "cell_type": "code",
   "execution_count": null,
   "metadata": {},
   "outputs": [],
   "source": [
    "# key: person, value: number of songs they create\n",
    "person_degree = [(k,len(v)) for (k,v) in unserialized_person_song.items()]\n",
    "print('There are %d persons in the network' % len(person_degree))\n",
    "\n",
    "# sort by degree in descending order\n",
    "person_degree.sort(key = lambda x : -x[1])"
   ]
  },
  {
   "cell_type": "code",
   "execution_count": null,
   "metadata": {},
   "outputs": [],
   "source": [
    "# key: user, value: number of songs they listen to\n",
    "user_degree = [(k,len(v)) for (k,v) in unserialized_user_song.items()]\n",
    "print('There are %d users in the network' % len(user_degree))\n",
    "\n",
    "# sort by degree in descending order\n",
    "user_degree.sort(key = lambda x : -x[1])"
   ]
  },
  {
   "cell_type": "markdown",
   "metadata": {},
   "source": [
    "## Construct Subnetworks"
   ]
  },
  {
   "cell_type": "markdown",
   "metadata": {},
   "source": [
    "### Construct Sparse Subnet (not using random sampling) "
   ]
  },
  {
   "cell_type": "code",
   "execution_count": null,
   "metadata": {},
   "outputs": [],
   "source": [
    "# construct sparse subnetwork\n",
    "sparse_nodes_percent = 0.1\n",
    "\n",
    "# find the nodes\n",
    "print('finding the nodes...')\n",
    "sparse_net_song_nodes_holder = song_degree[-int(len(song_degree)*sparse_nodes_percent):] #song_id is the first item in the tuple element of the returned list\n",
    "sparse_net_song_nodes = [node_holder[0] for node_holder in sparse_net_song_nodes_holder]\n",
    "\n",
    "sparse_net_user_nodes_holder = user_degree[-int(len(user_degree)*sparse_nodes_percent):]\n",
    "sparse_net_user_nodes = [node_holder[0] for node_holder in sparse_net_user_nodes_holder]\n",
    "\n",
    "sparse_net_person_nodes_holder = person_degree[-int(len(person_degree)*sparse_nodes_percent):]\n",
    "sparse_net_person_nodes = [node_holder[0] for node_holder in sparse_net_person_nodes_holder]\n",
    "\n",
    "sparse_net_nodes = sparse_net_song_nodes + sparse_net_user_nodes + sparse_net_person_nodes\n",
    "\n",
    "print('sparse net nodes: %d songs, %d users, %d persons.' % (len(sparse_net_song_nodes),\\\n",
    "                                                                                         len(sparse_net_user_nodes), \\\n",
    "                                                                                         len(sparse_net_person_nodes)))\n",
    "print('total number sparse net nodes: %d.' % len(sparse_net_nodes))"
   ]
  },
  {
   "cell_type": "code",
   "execution_count": null,
   "metadata": {},
   "outputs": [],
   "source": [
    "# construct sparse subnetwork\n",
    "# build the subnetwork --> find the edges\n",
    "print('finding the edges...')\n",
    "sparse_net_edge = [] # a list of pairs (node1, node2)\n",
    "connect = [] # a list of nodes that the node1 should connect to\n",
    "for i in tqdm(sparse_net_nodes): # (node1, node2) and (node2, node1) both exist\n",
    "    if i in unserialized_song_user:\n",
    "        connect = unserialized_song_user[i]\n",
    "        if i in unserialized_song_person:\n",
    "            connect.extend(unserialized_song_person[i])\n",
    "    elif i in unserialized_song_person:\n",
    "        connect = unserialized_song_person[i]\n",
    "        if i in unserialized_song_user:\n",
    "            connect.extend(unserialized_song_user[i])\n",
    "    elif i in unserialized_user_song:\n",
    "        connect = unserialized_user_song[i]\n",
    "    elif i in unserialized_person_song:\n",
    "        connect = unserialized_person_song[i]\n",
    "    else:\n",
    "        print('Error: key error!')\n",
    "    new_edges = [(i, j) for j in connect if j in sparse_net_nodes]\n",
    "    sparse_net_edge.extend(new_edges)\n",
    "    if len(sparse_net_edge) % 100 == 0 and len(sparse_net_edge) != 0:\n",
    "        print('num edges: ', len(sparse_net_edge))"
   ]
  },
  {
   "cell_type": "markdown",
   "metadata": {},
   "source": [
    "### Construct Sparse Subnet (random sampling) "
   ]
  },
  {
   "cell_type": "code",
   "execution_count": null,
   "metadata": {},
   "outputs": [],
   "source": [
    "# construct sparse subnetwork\n",
    "rs_sparse_nodes_percent = 0.01\n",
    "\n",
    "# find the nodes\n",
    "print('finding the nodes...')\n",
    "rs_sparse_net_song_nodes_holder = random.sample(song_degree, int(len(song_degree)*rs_sparse_nodes_percent)) #song_id is the first item in the tuple element of the returned list\n",
    "rs_sparse_net_song_nodes = [node_holder[0] for node_holder in rs_sparse_net_song_nodes_holder]\n",
    "\n",
    "rs_sparse_net_user_nodes_holder = random.sample(user_degree, int(len(user_degree)*rs_sparse_nodes_percent))\n",
    "rs_sparse_net_user_nodes = [node_holder[0] for node_holder in rs_sparse_net_user_nodes_holder]\n",
    "\n",
    "rs_sparse_net_person_nodes_holder = random.sample(person_degree, int(len(person_degree)*rs_sparse_nodes_percent))\n",
    "rs_sparse_net_person_nodes = [node_holder[0] for node_holder in rs_sparse_net_person_nodes_holder]\n",
    "\n",
    "rs_sparse_net_nodes = rs_sparse_net_song_nodes + rs_sparse_net_user_nodes + rs_sparse_net_person_nodes\n",
    "\n",
    "print('rs sparse net nodes: %d songs, %d users, %d persons.' % (len(rs_sparse_net_song_nodes),\\\n",
    "                                                                                         len(rs_sparse_net_user_nodes), \\\n",
    "                                                                                         len(rs_sparse_net_person_nodes)))\n",
    "print('total number rs sparse net nodes: %d.' % len(rs_sparse_net_nodes))"
   ]
  },
  {
   "cell_type": "code",
   "execution_count": null,
   "metadata": {},
   "outputs": [],
   "source": [
    "# construct sparse subnetwork\n",
    "# build the subnetwork --> find the edges\n",
    "print('finding the edges...')\n",
    "rs_sparse_net_edge = [] # a list of pairs (node1, node2)\n",
    "connect = [] # a list of nodes that the node1 should connect to\n",
    "for i in tqdm(rs_sparse_net_nodes): # (node1, node2) and (node2, node1) both exist\n",
    "    if i in unserialized_song_user:\n",
    "        connect = unserialized_song_user[i]\n",
    "        if i in unserialized_song_person:\n",
    "            connect.extend(unserialized_song_person[i])\n",
    "    elif i in unserialized_song_person:\n",
    "        connect = unserialized_song_person[i]\n",
    "        if i in unserialized_song_user:\n",
    "            connect.extend(unserialized_song_user[i])\n",
    "    elif i in unserialized_user_song:\n",
    "        connect = unserialized_user_song[i]\n",
    "    elif i in unserialized_person_song:\n",
    "        connect = unserialized_person_song[i]\n",
    "    else:\n",
    "        print('Error: key error!')\n",
    "    new_edges = [(i, j) for j in connect if j in rs_sparse_net_nodes]\n",
    "    rs_sparse_net_edge.extend(new_edges)\n",
    "    if len(rs_sparse_net_edge) % 100 == 0 and len(rs_sparse_net_edge) != 0:\n",
    "        print('num edges: ', len(rs_sparse_net_edge))"
   ]
  },
  {
   "cell_type": "markdown",
   "metadata": {},
   "source": [
    "### Construct Dense Subnet (not using random sampling) "
   ]
  },
  {
   "cell_type": "code",
   "execution_count": null,
   "metadata": {},
   "outputs": [],
   "source": [
    "# construct dense subnetwork\n",
    "dense_nodes_percent = 0.01\n",
    "\n",
    "# find the nodes\n",
    "print('finding the nodes...')\n",
    "dense_net_song_nodes_holder = song_degree[:int(len(song_degree)*dense_nodes_percent)] #song_id is the first item in the tuple element of the returned list\n",
    "dense_net_song_nodes = [node_holder[0] for node_holder in dense_net_song_nodes_holder]\n",
    "\n",
    "dense_net_user_nodes_holder = user_degree[:int(len(user_degree)*dense_nodes_percent)]\n",
    "dense_net_user_nodes = [node_holder[0] for node_holder in dense_net_user_nodes_holder]\n",
    "\n",
    "dense_net_person_nodes_holder = person_degree[:int(len(person_degree)*dense_nodes_percent)]\n",
    "dense_net_person_nodes = [node_holder[0] for node_holder in dense_net_person_nodes_holder]\n",
    "\n",
    "dense_net_nodes = dense_net_song_nodes + dense_net_user_nodes + dense_net_person_nodes\n",
    "\n",
    "print('dense net nodes: %d songs, %d users, %d persons.' % (len(dense_net_song_nodes),\\\n",
    "                                                                                         len(dense_net_user_nodes), \\\n",
    "                                                                                         len(dense_net_person_nodes)))\n",
    "print('total number dense net nodes: %d.' % len(dense_net_nodes))"
   ]
  },
  {
   "cell_type": "code",
   "execution_count": null,
   "metadata": {},
   "outputs": [],
   "source": [
    "# construct dense subnetwork\n",
    "# build the subnetwork --> find the edges\n",
    "print('finding the edges...')\n",
    "dense_net_edge = [] # a list of pairs (node1, node2)\n",
    "connect = [] # a list of nodes that the node1 should connect to\n",
    "for i in tqdm(dense_net_nodes): # (node1, node2) and (node2, node1) both exist\n",
    "    if i in unserialized_song_user:\n",
    "        connect = unserialized_song_user[i]\n",
    "        if i in unserialized_song_person:\n",
    "            connect.extend(unserialized_song_person[i])\n",
    "    elif i in unserialized_song_person:\n",
    "        connect = unserialized_song_person[i]\n",
    "        if i in unserialized_song_user:\n",
    "            connect.extend(unserialized_song_user[i])\n",
    "    elif i in unserialized_user_song:\n",
    "        connect = unserialized_user_song[i]\n",
    "    elif i in unserialized_person_song:\n",
    "        connect = unserialized_person_song[i]\n",
    "    else:\n",
    "        print('Error: key error!')\n",
    "    print(len(connect))\n",
    "    new_edges = [(i, j) for j in connect if j in dense_net_nodes]\n",
    "    dense_net_edge.extend(new_edges)\n",
    "    print('hi')\n",
    "    if len(sparse_net_edge) % 10 == 0: # and len(sparse_net_edge) != 0:\n",
    "        print('num edges: ', len(sparse_net_edge))"
   ]
  },
  {
   "cell_type": "markdown",
   "metadata": {},
   "source": [
    "## Construct Entire Network"
   ]
  },
  {
   "cell_type": "code",
   "execution_count": null,
   "metadata": {},
   "outputs": [],
   "source": [
    "# comment out because takes too long\n",
    "'''\n",
    "# construct entire network\n",
    "# find the nodes\n",
    "print('finding the nodes...')\n",
    "entire_net_song_nodes = [node_holder[0] for node_holder in song_degree]\n",
    "entire_net_user_nodes = [node_holder[0] for node_holder in user_degree]\n",
    "entire_net_person_nodes = [node_holder[0] for node_holder in person_degree]\n",
    "entire_net_nodes = entire_net_song_nodes + entire_net_user_nodes + entire_net_person_nodes\n",
    "\n",
    "# build the subnetwork --> find the edges\n",
    "print('finding the edges...')\n",
    "entire_net_edge = [] # a list of pairs (node1, node2)\n",
    "connect = [] # a list of nodes that the node1 should connect to\n",
    "for i in entire_net_nodes: # (node1, node2) and (node2, node1) both exist\n",
    "    if i in unserialized_song_user:\n",
    "        connect = unserialized_song_user[i]\n",
    "        if i in unserialized_song_person:\n",
    "            connect.extend(unserialized_song_person[i])\n",
    "    elif i in unserialized_song_person:\n",
    "        connect = unserialized_song_person[i]\n",
    "        if i in unserialized_song_user:\n",
    "            connect.extend(unserialized_song_user[i])\n",
    "    elif i in unserialized_user_song:\n",
    "        connect = unserialized_user_song[i]\n",
    "    elif i in unserialized_person_song:\n",
    "        connect = unserialized_person_song[i]\n",
    "    else:\n",
    "        print('Error: key error!')\n",
    "    new_edges = [(i, j) for j in connect]\n",
    "    entire_net_edge.extend(new_edges)\n",
    "'''"
   ]
  },
  {
   "cell_type": "markdown",
   "metadata": {},
   "source": [
    "## Compute Statistics & Density Heuristic"
   ]
  },
  {
   "cell_type": "code",
   "execution_count": null,
   "metadata": {},
   "outputs": [],
   "source": [
    "# compute the density heuristic \n",
    "sparse_net_density = len(sparse_net_edge) / (len(sparse_net_song_nodes) * \\\n",
    "                                                                (len(sparse_net_user_nodes) + len(sparse_net_person_nodes)))\n",
    "print('sparse subnet density heuristic: ', sparse_net_density)\n",
    "\n",
    "# number of nodes\n",
    "print('sparse subnet has %d nodes' % len(sparse_net_nodes))\n",
    "\n",
    "# number of edges \n",
    "print('sparse subnet has %d edges' % len(sparse_net_edge))"
   ]
  },
  {
   "cell_type": "markdown",
   "metadata": {},
   "source": [
    "### Results:\n",
    "sparse subnet density heuristic:  1.8770173365290796e-06\n",
    "\n",
    "sparse subnet has 285475 nodes\n",
    "\n",
    "sparse subnet has 24068 edges"
   ]
  },
  {
   "cell_type": "code",
   "execution_count": null,
   "metadata": {},
   "outputs": [],
   "source": [
    "# compute the density heuristic \n",
    "rs_sparse_net_density = len(rs_sparse_net_edge) / (len(rs_sparse_net_song_nodes) * \\\n",
    "                                                                        (len(rs_sparse_net_user_nodes) + len(rs_sparse_net_person_nodes)))\n",
    "print('(randomly sampled) sparse subnet density heuristic: ', rs_sparse_net_density)\n",
    "\n",
    "# number of nodes\n",
    "print('(randomly sampled) sparse subnet has %d nodes' % len(rs_sparse_net_nodes))\n",
    "\n",
    "# number of edges \n",
    "print('(randomly sampled) sparse subnet has %d edges' % len(rs_sparse_net_edge))"
   ]
  },
  {
   "cell_type": "markdown",
   "metadata": {},
   "source": [
    "### Results:\n",
    "rs sparse subnet density heuristic:  1.7277363754161006e-05\n",
    "\n",
    "rs sparse subnet has 28546 nodes\n",
    "\n",
    "rs sparse subnet has 2215 edges"
   ]
  },
  {
   "cell_type": "code",
   "execution_count": null,
   "metadata": {},
   "outputs": [],
   "source": [
    "# compute the density heuristic \n",
    "dense_net_density = len(dense_net_edge) / (len(dense_net_song_nodes) * \\\n",
    "                                                                (len(dense_net_user_nodes) + len(dense_net_person_nodes)))\n",
    "print('dense subnet density heuristic: ', dense_net_density)\n",
    "\n",
    "# number of nodes\n",
    "print('dense subnet has %d nodes' % len(dense_net_nodes))\n",
    "\n",
    "# number of edges \n",
    "print('dense subnet has %d edges' % len(dense_net_edge))"
   ]
  },
  {
   "cell_type": "code",
   "execution_count": null,
   "metadata": {},
   "outputs": [],
   "source": [
    "'''\n",
    "# compute the density heuristic \n",
    "entire_net_density = len(entire_net_edge) / (len(entire_net_song_nodes) * \\\n",
    "                                                                (len(entire_net_user_nodes) + len(entire_net_person_nodes)))\n",
    "print('entire subnet density heuristic: ', entire_net_density)\n",
    "\n",
    "# number of nodes\n",
    "print('entire subnet has %d nodes' % len(entire_net_nodes))\n",
    "\n",
    "# number of edges \n",
    "print('entire subnet has %d nodes' % len(entire_net_edge))\n",
    "'''"
   ]
  },
  {
   "cell_type": "markdown",
   "metadata": {},
   "source": [
    "## Export Subnetworks"
   ]
  },
  {
   "cell_type": "code",
   "execution_count": null,
   "metadata": {},
   "outputs": [],
   "source": [
    "# sparse_net_nodes.txt\n",
    "sparse_net_nodes_np = np.array(sparse_net_nodes) # numpy array of nodes of sparse network\n",
    "with open('sparse_net_nodes.txt', 'wb') as handle:\n",
    "    pickle.dump(sparse_net_nodes_np, handle, protocol=pickle.HIGHEST_PROTOCOL)"
   ]
  },
  {
   "cell_type": "code",
   "execution_count": null,
   "metadata": {},
   "outputs": [],
   "source": [
    "# sparse_net_edges.dict\n",
    "# key: source, value: target\n",
    "# note that node1 -> node2 and node2 -> node1 are both present in this dictionary\n",
    "sparse_net_edges = sparse_net_edge #TODO: fix the naming after running...\n",
    "sparse_net_edges_dict = {pair[0]:pair[1] for pair in sparse_net_edges}\n",
    "with open('sparse_net_edges.dict', 'wb') as handle:\n",
    "    pickle.dump(sparse_net_edges_dict, handle, protocol=pickle.HIGHEST_PROTOCOL)"
   ]
  },
  {
   "cell_type": "code",
   "execution_count": null,
   "metadata": {},
   "outputs": [],
   "source": [
    "#TODO: export dense subnetwork"
   ]
  },
  {
   "cell_type": "markdown",
   "metadata": {},
   "source": [
    "## Test Loading The Saved Subnets"
   ]
  },
  {
   "cell_type": "code",
   "execution_count": null,
   "metadata": {},
   "outputs": [],
   "source": [
    "with open('sparse_net_nodes.txt', 'rb') as handle:\n",
    "    unpickled_sparse_net_nodes = pickle.load(handle)\n",
    "unpickled_sparse_net_nodes[:5]\n",
    "len(unpickled_sparse_net_nodes)"
   ]
  },
  {
   "cell_type": "code",
   "execution_count": null,
   "metadata": {},
   "outputs": [],
   "source": [
    "with open('sparse_net_edges.dict', 'rb') as handle:\n",
    "    unpickled_sparse_net_edges = pickle.load(handle)\n",
    "len(unpickled_sparse_net_edges)"
   ]
  },
  {
   "cell_type": "code",
   "execution_count": null,
   "metadata": {},
   "outputs": [],
   "source": [
    "# TODO: dense subnetwork"
   ]
  }
 ],
 "metadata": {
  "kernelspec": {
   "display_name": "Python 3",
   "language": "python",
   "name": "python3"
  },
  "language_info": {
   "codemirror_mode": {
    "name": "ipython",
    "version": 3
   },
   "file_extension": ".py",
   "mimetype": "text/x-python",
   "name": "python",
   "nbconvert_exporter": "python",
   "pygments_lexer": "ipython3",
   "version": "3.6.8"
  }
 },
 "nbformat": 4,
 "nbformat_minor": 2
}
