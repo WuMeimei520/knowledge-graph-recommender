{
 "cells": [
  {
   "cell_type": "code",
   "execution_count": null,
   "metadata": {
    "collapsed": true
   },
   "outputs": [],
   "source": [
    "import pickle\n",
    "import numpy as np\n",
    "import math\n",
    "import itertools\n",
    "from IPython.core.interactiveshell import InteractiveShell\n",
    "InteractiveShell.ast_node_interactivity = \"all\""
   ]
  },
  {
   "cell_type": "code",
   "execution_count": null,
   "metadata": {},
   "outputs": [],
   "source": [
    "type_to_ix = {'person': 0, 'user': 1, 'song': 2}\n",
    "relation_to_ix = {'song_person': 0, 'person_song': 1, 'user_song': \n",
    "                  2, 'song_user': 3, '#UNK_RELATION': 4, '#END_RELATION': 5, '#PAD_TOKEN': 6}"
   ]
  },
  {
   "cell_type": "markdown",
   "metadata": {},
   "source": [
    "Construct mappings from entity, type, and relation to idxs"
   ]
  },
  {
   "cell_type": "code",
   "execution_count": null,
   "metadata": {},
   "outputs": [],
   "source": [
    "#entity vocab set is combination of songs, users, and persons\n",
    "with open('../song_data/song_id.txt', 'rb') as handle:\n",
    "    songs = pickle.load(handle)\n",
    "    \n",
    "with open('../song_data/user_id.txt', 'rb') as handle:\n",
    "    users = pickle.load(handle)\n",
    "    \n",
    "with open('../song_data/person_song.dict', 'rb') as handle:\n",
    "    person_song = pickle.load(handle)\n",
    "    persons = list(person_song.keys())\n",
    "    \n",
    "entities = np.concatenate((songs, users, persons), axis=None)\n",
    "\n",
    "#if we have singe map for all entities need to ensure no duplicates across categories\n",
    "assert len(entities) == len(songs) + len(persons) + len(users)\n",
    "assert len(entities) == len(set(entities))\n",
    "\n",
    "entity_to_ix = {entity: idx for idx, entity in enumerate(set(entities))}\n",
    "    "
   ]
  },
  {
   "cell_type": "markdown",
   "metadata": {},
   "source": [
    "Construct inverse idx mappings"
   ]
  },
  {
   "cell_type": "code",
   "execution_count": null,
   "metadata": {
    "collapsed": true
   },
   "outputs": [],
   "source": [
    "ix_to_type = {v: k for k, v in type_to_ix.items()}\n",
    "ix_to_relation = {v: k for k, v in relation_to_ix.items()}\n",
    "ix_to_entity = {v: k for k, v in entity_to_ix.items()}"
   ]
  },
  {
   "cell_type": "markdown",
   "metadata": {},
   "source": [
    "Save idx mappings as .dict files"
   ]
  },
  {
   "cell_type": "code",
   "execution_count": null,
   "metadata": {},
   "outputs": [],
   "source": [
    "with open('type_to_ix.dict', 'wb') as handle:\n",
    "    pickle.dump(type_to_ix, handle, protocol=pickle.HIGHEST_PROTOCOL)\n",
    "    \n",
    "with open('relation_to_ix.dict', 'wb') as handle:\n",
    "    pickle.dump(relation_to_ix, handle, protocol=pickle.HIGHEST_PROTOCOL)\n",
    "    \n",
    "with open('entity_to_ix.dict', 'wb') as handle:\n",
    "    pickle.dump(entity_to_ix, handle, protocol=pickle.HIGHEST_PROTOCOL)\n",
    "    \n",
    "with open('ix_to_type.dict', 'wb') as handle:\n",
    "    pickle.dump(ix_to_type, handle, protocol=pickle.HIGHEST_PROTOCOL)\n",
    "    \n",
    "with open('ix_to_relation.dict', 'wb') as handle:\n",
    "    pickle.dump(ix_to_relation, handle, protocol=pickle.HIGHEST_PROTOCOL)\n",
    "    \n",
    "with open('ix_to_entity.dict', 'wb') as handle:\n",
    "    pickle.dump(ix_to_entity, handle, protocol=pickle.HIGHEST_PROTOCOL)"
   ]
  },
  {
   "cell_type": "markdown",
   "metadata": {},
   "source": [
    "Output preview"
   ]
  },
  {
   "cell_type": "code",
   "execution_count": null,
   "metadata": {},
   "outputs": [],
   "source": [
    "with open('type_to_ix.dict', 'rb') as handle:\n",
    "    print(pickle.load(handle))\n",
    "    \n",
    "with open('relation_to_ix.dict', 'rb') as handle:\n",
    "    print(pickle.load(handle))\n",
    "    \n",
    "with open('entity_to_ix.dict', 'rb') as handle:\n",
    "    print(pickle.load(handle))"
   ]
  },
  {
   "cell_type": "code",
   "execution_count": null,
   "metadata": {
    "collapsed": true
   },
   "outputs": [],
   "source": []
  }
 ],
 "metadata": {
  "kernelspec": {
   "display_name": "Python 3",
   "language": "python",
   "name": "python3"
  },
  "language_info": {
   "codemirror_mode": {
    "name": "ipython",
    "version": 3
   },
   "file_extension": ".py",
   "mimetype": "text/x-python",
   "name": "python",
   "nbconvert_exporter": "python",
   "pygments_lexer": "ipython3",
   "version": "3.6.3"
  }
 },
 "nbformat": 4,
 "nbformat_minor": 2
}
