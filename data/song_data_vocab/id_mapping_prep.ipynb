{
 "cells": [
  {
   "cell_type": "code",
   "execution_count": null,
   "metadata": {
    "collapsed": true
   },
   "outputs": [],
   "source": [
    "import pickle\n",
    "import numpy as np\n",
    "import math\n",
    "import itertools\n",
    "from IPython.core.interactiveshell import InteractiveShell\n",
    "InteractiveShell.ast_node_interactivity = \"all\""
   ]
  },
  {
   "cell_type": "code",
   "execution_count": null,
   "metadata": {
    "collapsed": true
   },
   "outputs": [],
   "source": [
    "pad_token = '#PAD_TOKEN'\n",
    "type_to_ix = {'person': 0, 'user': 1, 'song': 2, pad_token: 3}\n",
    "relation_to_ix = {'song_person': 0, 'person_song': 1, 'user_song': \n",
    "                  2, 'song_user': 3, '#UNK_RELATION': 4, '#END_RELATION': 5, pad_token: 6}"
   ]
  },
  {
   "cell_type": "markdown",
   "metadata": {},
   "source": [
    "Construct mappings from entity, type, and relation to idxs"
   ]
  },
  {
   "cell_type": "code",
   "execution_count": null,
   "metadata": {
    "collapsed": true
   },
   "outputs": [],
   "source": [
    "#entity vocab set is combination of songs, users, and persons\n",
    "#currently using dicts and not id_txt files since it seemed like there were missing songs\n",
    "with open('../song_data/song_user.dict', 'rb') as handle:\n",
    "    songs1 = set(pickle.load(handle).keys())\n",
    "    \n",
    "with open('../song_data/song_person.dict', 'rb') as handle:\n",
    "    songs2 = set(pickle.load(handle).keys())\n",
    "\n",
    "with open('../song_data/user_song.dict', 'rb') as handle:\n",
    "    users = set(pickle.load(handle).keys())\n",
    "    \n",
    "with open('../song_data/person_song.dict', 'rb') as handle:\n",
    "    persons = set(pickle.load(handle).keys())\n",
    "\n",
    "songs = songs1|songs2\n",
    "entities = songs|users|persons\n",
    "\n",
    "#if we have singe map for all entities need to ensure no duplicates across categories\n",
    "assert len(entities) == len(songs) + len(persons) + len(users)\n",
    "\n",
    "entity_to_ix = {entity: idx for idx, entity in enumerate(entities)}\n",
    "entity_to_ix[pad_token] = len(entity_to_ix)\n",
    "    "
   ]
  },
  {
   "cell_type": "markdown",
   "metadata": {},
   "source": [
    "Construct inverse idx mappings"
   ]
  },
  {
   "cell_type": "code",
   "execution_count": null,
   "metadata": {
    "collapsed": true
   },
   "outputs": [],
   "source": [
    "ix_to_type = {v: k for k, v in type_to_ix.items()}\n",
    "ix_to_relation = {v: k for k, v in relation_to_ix.items()}\n",
    "ix_to_entity = {v: k for k, v in entity_to_ix.items()}"
   ]
  },
  {
   "cell_type": "markdown",
   "metadata": {},
   "source": [
    "Save idx mappings as .dict files"
   ]
  },
  {
   "cell_type": "code",
   "execution_count": null,
   "metadata": {
    "collapsed": true
   },
   "outputs": [],
   "source": [
    "with open('type_to_ix.dict', 'wb') as handle:\n",
    "    pickle.dump(type_to_ix, handle, protocol=pickle.HIGHEST_PROTOCOL)\n",
    "    \n",
    "with open('relation_to_ix.dict', 'wb') as handle:\n",
    "    pickle.dump(relation_to_ix, handle, protocol=pickle.HIGHEST_PROTOCOL)\n",
    "    \n",
    "with open('entity_to_ix.dict', 'wb') as handle:\n",
    "    pickle.dump(entity_to_ix, handle, protocol=pickle.HIGHEST_PROTOCOL)\n",
    "    \n",
    "with open('ix_to_type.dict', 'wb') as handle:\n",
    "    pickle.dump(ix_to_type, handle, protocol=pickle.HIGHEST_PROTOCOL)\n",
    "    \n",
    "with open('ix_to_relation.dict', 'wb') as handle:\n",
    "    pickle.dump(ix_to_relation, handle, protocol=pickle.HIGHEST_PROTOCOL)\n",
    "    \n",
    "with open('ix_to_entity.dict', 'wb') as handle:\n",
    "    pickle.dump(ix_to_entity, handle, protocol=pickle.HIGHEST_PROTOCOL)"
   ]
  },
  {
   "cell_type": "markdown",
   "metadata": {
    "collapsed": true
   },
   "source": [
    "Construct relation and type dictionaries replacing names with ids"
   ]
  },
  {
   "cell_type": "code",
   "execution_count": null,
   "metadata": {},
   "outputs": [],
   "source": [
    "def convert_to_ids(rel_dict, key_id_dict, value_id_dict):\n",
    "    new_rel = {}\n",
    "    for key,values in rel_dict.items():\n",
    "        key_id = key_id_dict[key]\n",
    "        value_ids = []\n",
    "        for val in values:\n",
    "            value_ids.append(value_id_dict[val])\n",
    "            \n",
    "        new_rel[key_id] = value_ids\n",
    "    \n",
    "    return new_rel\n",
    "\n",
    "with open('../song_data/song_user.dict', 'rb') as handle:\n",
    "    song_user = pickle.load(handle)\n",
    "    song_user_ix = convert_to_ids(song_user, entity_to_ix, entity_to_ix)\n",
    "    \n",
    "with open('../song_data/user_song.dict', 'rb') as handle:\n",
    "    user_song = pickle.load(handle)\n",
    "    user_song_ix = convert_to_ids(user_song, entity_to_ix, entity_to_ix)\n",
    "    \n",
    "with open('../song_data/song_person.dict', 'rb') as handle:\n",
    "    song_person = pickle.load(handle)\n",
    "    song_person_ix = convert_to_ids(song_person, entity_to_ix, entity_to_ix)\n",
    "    \n",
    "with open('../song_data/person_song.dict', 'rb') as handle:\n",
    "    person_song = pickle.load(handle)\n",
    "    person_song_ix = convert_to_ids(person_song, entity_to_ix, entity_to_ix)\n",
    "\n",
    "#Convert entity to id dict to entity_ix to id dict\n",
    "with open('../song_data/id_type.dict', 'rb') as handle:\n",
    "    entity_type = pickle.load(handle)\n",
    "    entity_ix_type = {}\n",
    "    for key,value in entity_type.items():\n",
    "        key_id = entity_to_ix[key]    \n",
    "        entity_ix_type[key_id] = value"
   ]
  },
  {
   "cell_type": "code",
   "execution_count": null,
   "metadata": {},
   "outputs": [],
   "source": [
    "with open('song_user_ix.dict', 'wb') as handle:\n",
    "    pickle.dump(song_user_ix, handle, protocol=pickle.HIGHEST_PROTOCOL)\n",
    "    \n",
    "with open('user_song_ix.dict', 'wb') as handle:\n",
    "    pickle.dump(user_song_ix, handle, protocol=pickle.HIGHEST_PROTOCOL)\n",
    "    \n",
    "with open('song_person_ix.dict', 'wb') as handle:\n",
    "    pickle.dump(song_person_ix, handle, protocol=pickle.HIGHEST_PROTOCOL)\n",
    "    \n",
    "with open('person_song_ix.dict', 'wb') as handle:\n",
    "    pickle.dump(person_song_ix, handle, protocol=pickle.HIGHEST_PROTOCOL)\n",
    "\n",
    "with open('entity_ix_type.dict', 'wb') as handle:\n",
    "    pickle.dump(entity_ix_type, handle, protocol=pickle.HIGHEST_PROTOCOL)"
   ]
  },
  {
   "cell_type": "code",
   "execution_count": null,
   "metadata": {
    "collapsed": true
   },
   "outputs": [],
   "source": []
  }
 ],
 "metadata": {
  "kernelspec": {
   "display_name": "Python 3",
   "language": "python",
   "name": "python3"
  },
  "language_info": {
   "codemirror_mode": {
    "name": "ipython",
    "version": 3
   },
   "file_extension": ".py",
   "mimetype": "text/x-python",
   "name": "python",
   "nbconvert_exporter": "python",
   "pygments_lexer": "ipython3",
   "version": "3.6.3"
  }
 },
 "nbformat": 4,
 "nbformat_minor": 2
}
