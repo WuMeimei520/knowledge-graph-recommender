{
 "cells": [
  {
   "cell_type": "code",
   "execution_count": 35,
   "metadata": {},
   "outputs": [],
   "source": [
    "import pandas as pd\n",
    "import pickle\n",
    "import numpy as np\n",
    "from IPython.core.interactiveshell import InteractiveShell\n",
    "InteractiveShell.ast_node_interactivity = \"all\""
   ]
  },
  {
   "cell_type": "code",
   "execution_count": 3,
   "metadata": {},
   "outputs": [],
   "source": [
    "songs = pd.read_csv(\"songs.csv\")\n",
    "train = pd.read_csv(\"train.csv\")[:100]\n",
    "members = pd.read_csv(\"members.csv\")\n",
    "sample_submission = pd.read_csv(\"sample_submission.csv\")"
   ]
  },
  {
   "cell_type": "code",
   "execution_count": 37,
   "metadata": {},
   "outputs": [],
   "source": [
    "person_type_idx = 0\n",
    "user_type_idx = 1\n",
    "song_type_idx = 2"
   ]
  },
  {
   "cell_type": "markdown",
   "metadata": {},
   "source": [
    "## Serialize into dict & arrays"
   ]
  },
  {
   "cell_type": "code",
   "execution_count": 4,
   "metadata": {},
   "outputs": [],
   "source": [
    "# dict where key = song_id, value = list of user_ids\n",
    "song_user = train[['song_id', 'msno']].set_index('song_id').groupby('song_id')['msno'].apply(list).to_dict()\n",
    "with open('song_user.dict', 'wb') as handle:\n",
    "    pickle.dump(song_user, handle, protocol=pickle.HIGHEST_PROTOCOL)"
   ]
  },
  {
   "cell_type": "code",
   "execution_count": 5,
   "metadata": {},
   "outputs": [],
   "source": [
    "# dict where key = user_id, value = list of song_ids\n",
    "user_song = train[['msno', 'song_id']].set_index('msno').groupby('msno')['song_id'].apply(list).to_dict()\n",
    "with open('user_song.dict', 'wb') as handle:\n",
    "    pickle.dump(user_song, handle, protocol=pickle.HIGHEST_PROTOCOL)"
   ]
  },
  {
   "cell_type": "code",
   "execution_count": 6,
   "metadata": {},
   "outputs": [],
   "source": [
    "# numpy array of sorted song_ids\n",
    "song_id = train['song_id'].values\n",
    "song_id.sort()\n",
    "with open('song_id.txt', 'wb') as handle:\n",
    "    pickle.dump(song_id, handle, protocol=pickle.HIGHEST_PROTOCOL)"
   ]
  },
  {
   "cell_type": "code",
   "execution_count": 7,
   "metadata": {},
   "outputs": [],
   "source": [
    "# numpy array of sorted user_ids\n",
    "user_id = train[['msno']].sort_values(by='msno').values[0]\n",
    "with open('user_id.txt', 'wb') as handle:\n",
    "    pickle.dump(user_id, handle, protocol=pickle.HIGHEST_PROTOCOL)"
   ]
  },
  {
   "cell_type": "code",
   "execution_count": 8,
   "metadata": {},
   "outputs": [],
   "source": [
    "# numpy array of [user_id, song_id] pairs sorted in the order of user_id\n",
    "user_song_tuple = train[['msno', 'song_id']].sort_values(by='msno').to_string(header=False, index=False, index_names=False).split('\\n')\n",
    "# user_song_tuple = '\\n'.join(['\\t'.join(row.split()) for row in user_song_tuple]) \n",
    "user_song_tuple = [row.split() for row in user_song_tuple]\n",
    "with open('user_song_tuple.txt', 'wb') as handle:\n",
    "    pickle.dump(user_song_tuple, handle, protocol=pickle.HIGHEST_PROTOCOL)"
   ]
  },
  {
   "cell_type": "code",
   "execution_count": 64,
   "metadata": {},
   "outputs": [],
   "source": [
    "#dict where key = entity id, value = entity type\n",
    "#person_id: artist_name\n",
    "song_id = train['song_id'].values #numpy.ndarray\n",
    "song_id = np.expand_dims(song_id, axis=1)\n",
    "song_type = np.full(song_id.shape, song_type_idx, dtype=int)\n",
    "song_id_type = np.concatenate((song_id, song_type), axis=1)\n",
    "\n",
    "user_id = train['msno'].values #numpy.ndarray\n",
    "user_id = np.expand_dims(user_id, axis=1)\n",
    "user_type = np.full(user_id.shape, user_type_idx, dtype=int)\n",
    "user_id_type = np.concatenate((user_id, user_type), axis=1)\n",
    "\n",
    "person_id = songs['artist_name'].values #numpy.ndarray\n",
    "person_id = np.expand_dims(person_id, axis=1)\n",
    "person_type = np.full(person_id.shape, person_type_idx, dtype=int)\n",
    "person_id_type = np.concatenate((person_id, person_type), axis=1)\n",
    "\n",
    "id_type_ndarray = np.concatenate((song_id_type, user_id_type, person_id_type), axis=0)\n",
    "\n",
    "id_type = {entity_id : entity_type for entity_id, entity_type in id_type_ndarray}\n",
    "with open('id_type.dict', 'wb') as handle:\n",
    "    pickle.dump(id_type, handle, protocol=pickle.HIGHEST_PROTOCOL)\n",
    "    \n",
    "print(id_type)"
   ]
  },
  {
   "cell_type": "markdown",
   "metadata": {},
   "source": [
    "## Deserialize checks (preview of output format)"
   ]
  },
  {
   "cell_type": "code",
   "execution_count": 9,
   "metadata": {},
   "outputs": [
    {
     "data": {
      "text/plain": [
       "['FGtllVqz18RPiwJj/edr2gV78zirAiY/9SmYvia+kCg=']"
      ]
     },
     "execution_count": 9,
     "metadata": {},
     "output_type": "execute_result"
    },
    {
     "data": {
      "text/plain": [
       "{'u6/Pb7X4u7KU4gXrBgGqt8RlRrNNFLn03tLAHyxRxwA=': ['TJU0Gfvy7FB+r89bWovPKXTjuApTCiv3xg/tt5shR78=',\n",
       "  '0LhkakIQDn36HZXI6ClQSO7W7jkpZAy+9MvYgPOZGrA=']}"
      ]
     },
     "execution_count": 9,
     "metadata": {},
     "output_type": "execute_result"
    },
    {
     "data": {
      "text/plain": [
       "array(['+Sm75wnBf/sjm/QMUAFx8N+Ae04kWCXGlgH50tTeM6c=',\n",
       "       '+u3iqLNaEoGlLwRbnbU0kM3CjctokMh1MPRFLrrzuQQ=',\n",
       "       '/2CWoqYh5/DUNi48voCXqA9V347liPy2WpEJj6CZro0=',\n",
       "       '/56EZoEb7TAm0G8GLJpA2Uzgg6QiJcYDwvI08I+w8JA=',\n",
       "       '/bU6IRSK+YNlNbaTkxo7bhsb2EDLPrnksdX3ggcZNhI=',\n",
       "       '0cHV60MVnGOKMb/GRHWEExfpahkCwIZQ0wxdYBJfoqE=',\n",
       "       '1R5HlX765HuV3uvLmJ0FqUQmlAmjdcqF0GbOqf9qUGs=',\n",
       "       '1ysr+JKN0mCCeW0UqWIj2Vlxz3N5aQOEW5mkSW/OBPA=',\n",
       "       '20e8yHxKn8p+G2zFcxC/3UDM5rYFCIoozlTCUB0YumU=',\n",
       "       '2A87tzfnJTSWqD7gIZHisolhe4DMdzkbd6LzO1KHjNs=',\n",
       "       '2bj5oqCPPzY6E0TPgwySkfj8/l/c+DVQBqnABx0qPSk=',\n",
       "       '2fhzNUTd3X1n8IKBAd0xM2HwOuDIc0Qb6ZcVQ3OmqX4=',\n",
       "       '34IXh04bdV42ClAF+3lHsAjNQEA9yljeyamS6+Wv1BQ=',\n",
       "       '3DU6F6k6dFSdoQa2tsia5spMXFCxWh4JJdA3OxSo3rM=',\n",
       "       '3Hg5kugV1S0wzEVLAEfqjIV5UHzb7bCrdBRQlGygLvU=',\n",
       "       '3RnXpHSbz61HoSCJEB7B9Sn3bqKPUvgYVwM8ceOEd1M=',\n",
       "       '3W6VBSN09a/Vh9w1Fwmdus4H4xxmde/yu0RBgMcTtZM=',\n",
       "       '3qm6XTZ6MOCU11x8FIVbAGH5l5uMkT3/ZalWG1oo2Gc=',\n",
       "       '4ZISq5iNKgBGGW2OvKBBzBsYXRohcJYFkqx3uVFCAuA=',\n",
       "       '4weA5ndJkDSo7zM38+4t7NT+CJ/5omnZYVHf/IDe+Qk=',\n",
       "       '56GgUdZtxpOVaQWIIPK2gFBiyJxYjbC8gPMPU1stoL8=',\n",
       "       '6HofPS0v2MVFsL10yCN7dXUL+gUOnvsD35vx3HmRbdE=',\n",
       "       '6i95Pie609AyCL86KYyXQkECKYudj7BnhRS5KRhJC6o=',\n",
       "       '7HDcHFAVdw76mL4Z5hbz300+s1oSUstaOfmaLw0+Dfo=',\n",
       "       '8FGjC9W+7F8WjheGZPAwX9RH3+nWSO7DzjM6EB6naOI=',\n",
       "       '8YOEmwK8kgfdH+Qh5FgH8RzDYs2g957lo0RUsHX2t2g=',\n",
       "       '9Vkmwza4MO1p/usHFkghvpmatny5xAxyZ51bC49AaYU=',\n",
       "       '9tNXaK/yKJfTcoWLRFw6HXplizDxq4bFvzs3scmesCU=',\n",
       "       '9yi9yLGK5Soiz1IO3iosDsx5O3hutglBHl1JbVHLjLw=',\n",
       "       'AVwT7l/VL0pOXpH4PkP9Cqh0Y9PJ1B0BHctZO9+lnmk=',\n",
       "       'BBzumQNXUHKdEBOB7mAJuzok+IJA1c2Ryg/yzTF6tik=',\n",
       "       'BwDDym6Tp7EnGudWBGJyjONZeX0/4ndu5PETiPWzav8=',\n",
       "       'CLEDgLdGvXhoXod/9uzm9UwECV5IzqWOrXHtHXpq5+E=',\n",
       "       'CUPwUKwyAEXwoQw8ik8EyfskXSvEUpu3Pb3mS2yFXoI=',\n",
       "       'DLBDZhOoW7zd7GBV99bi92ZXYUS26lzV+jJKbHshP5c=',\n",
       "       'EbI7xoNxI+3QSsiHxL13zBdgHIJOwa3srHd7cDcnJ0g=',\n",
       "       'FknKo37OUvSxVgBrw72Bi8gGcWEZVF8MY3YyzmGx6ag=',\n",
       "       'GFWjz4apE8zMiXe6wc0qCjr+DbK9BFkwo/rr+FsNm+g=',\n",
       "       'H0pfaBjENAn1eYhCA5+rurd8AnnJF17J512SKZBfvfU=',\n",
       "       'HbqkjwnnIt6BtfmvVyXTdPHAsFCYxU74sv8+s1lfIwE=',\n",
       "       'IKMFuL0f5Y8c63Hg9BXkeNJjE0z8yf3gMt/tOxF4QNE=',\n",
       "       'IPeg6L8QvmfJTuOFNa4iPnk93WzyceWdxnVDCreoEpE=',\n",
       "       'IXP1a2o3NL8WU4WK1X0WJAKaSW+LgGRpPDn4Gt1HrV8=',\n",
       "       'IgMar/mVrJQ+ODFPytDf7jwQMmR09+slyZUdVylRFLc=',\n",
       "       'JNWfrrC7zNN7BdMpsISKa4Mw+xVJYNnxXh3/Epw7QgY=',\n",
       "       'JZ+4w2HWMQiyCErXdD8YMi7okU40lobADjHq9/TDFvg=',\n",
       "       'K2jkXlozk/+HPjs1RyDlBUHJx2Ky+ITavwBXPcFqtHY=',\n",
       "       'L6w2d0w84FjTvFr+BhMfgu7dZAsGiOqUGmvvxIG3gvQ=',\n",
       "       'LBFRdBacp7Ob6Ada2N7uCQ47DhiNT2KjUtwOA7oSm7I=',\n",
       "       'MM+huiuccu4p5mNVhWxWgJreIsRWuEmvbvpCu0q79XM=',\n",
       "       'NDtSbLpLMkWyBAhfRimU73D/pKVWE6Z3Q2IEdmFuWNk=',\n",
       "       'P6dllZw/ZnO7qcufxOKHAXGwlCvkmm4djJT/82d3ihA=',\n",
       "       'PgRtmmESVNtWjoZHO5a1r21vIz9sVZmcJJpFCbRa1LI=',\n",
       "       'Prbb1SisBE80rnDae36BPKvkulEiXMssQvBfVCsHr38=',\n",
       "       'RAVcXkNI6tqrsArzBxA9JcNnv/ftDwqDwBDaGqIzXyA=',\n",
       "       'SJHL9vlSHU06VO8w32meVip35heQuc2gsLGWswru/xs=',\n",
       "       'T86YHdD4C9JSc274b1IlMkLuNdz4BQRB50fWWE7hx9g=',\n",
       "       'TE5ASd0CqSedf7+LBnqf5Z8Kfm9X9wfj8t2IXZNuDOw=',\n",
       "       'TLUDFNRpLCG/DmqLiXBc4Udypwucj4XmKtotIUO6nXM=',\n",
       "       'TYhx9eqWklddkLQlApQ5MS9jJCO4H3JHdpISZ3kZSRE=',\n",
       "       'U/pC2dgvSHe4/rEyrhe4YwIHyaHlbNRMtxAKuuWrmlY=',\n",
       "       'U03If8ekFQ69MIodnGZOgaFV9vbFpwDQZQYCf5To5fo=',\n",
       "       'VkILU0H1h3NMmk9MQrXouNudGk5n8Ls5cqRRuBxeTh4=',\n",
       "       'VqOqrfMxAOMwJpyfUSyWuPmHpMtSuzvrCvHgahApvDU=',\n",
       "       'WHEVGSHBtJBVy+HjH84qRtj0KcNtYd+2pUO4xHMAJXk=',\n",
       "       'WL4ipO3Mx9pxd4FMs69ha6o9541+fLeOow67Qkrfnro=',\n",
       "       'Xy3cGOjm2V1MF7SZGA36NEC7b46NVBXvLnBDWXOl2FE=',\n",
       "       'a4TbK5V15pj3YZUOGa9h2U3t0OsE+3aiFw41mNlcgcw=',\n",
       "       'aaosaazotfFOGS0pdK4RLNmLtezYXub2Gb6T6YGGObU=',\n",
       "       'b+OlR6qF0gzG++m+sYrOnf7bJF6WmXv51xGLBpmugxg=',\n",
       "       'bPIvRTzfHxH5LgHrStll+tYwSQNVV8PySgA3M1PfTgc=',\n",
       "       'bhp/MpSNoqoxOIB+/l8WPqu6jldth4DIpCm3ayXnJqM=',\n",
       "       'boxeSDj5nrUIRE0JoCMKUBxk/c4dsKf49yacI6WPHoc=',\n",
       "       'cL24vvYHrkz4YjAzU4OtrjGXUz1wBNWFqC/PQXMKIY0=',\n",
       "       'dKsoBHe5cVhyQSU8CimXs4ysaAky4RNgBwIafHaLkik=',\n",
       "       'fCCmIa0Y5m+MCGbQga31MOLTIqi7ddgXvkjFPmfslGw=',\n",
       "       'gAsKceTstGBoPKWib6Zp0h8m15fH/qFwlfWsr24KFRg=',\n",
       "       'hQtwwQhSamcIwNl/1JDR3B77oF2QxwB95paAKAqsIAo=',\n",
       "       'iXbxmEpOCNBNj9ty45gPuwtYvUqQBOKNsXANX25joiY=',\n",
       "       'j15oN8gA26II4cebHvxc+rIIjzyBDzjHi9rYx7oSvrQ=',\n",
       "       'lBYsvASSajQQPfE/o65Qy3FYsMHhbCmynFANAP29nks=',\n",
       "       'lIVEEZgY5lPwvzf6iu3Zz7HHNRfLUpwv6JysYBwBjMM=',\n",
       "       'lrgjGNzyCHrMPfLKNMV0NBh9hdNTpzoj5rOZ27tXMLo=',\n",
       "       'lsvDNSX7YzpRBphxelN46v3wV2zXsJflqDOSVKrCOOM=',\n",
       "       'n2mNwyApX16qOdG4ye2ehf5Cp5oevcahFh27Jyq/7JQ=',\n",
       "       'n8xoFetUt29W6E4Gxnz8SGKewVBDSTtLdZ913mb4Hzg=',\n",
       "       'pRjhEkL8Da3+YpKh9SYcmYLKG1lYFy4ixcYy0h1Pc30=',\n",
       "       'reXuGcEWDDCnL0K3Th//3DFG4S1ACSpJMzA+CFipo1g=',\n",
       "       'skehue/d/R59G71dXYpntDwdjRRPlweN3JE8g40TgZU=',\n",
       "       't0aT90DlS1TGncgnKoL0SvfAWEr3Dl72QBVcokmKfLc=',\n",
       "       't95ClWf/B7Hi46sJeL70WJ75u7gLwaAp8o7LHuTtxl0=',\n",
       "       'u6/Pb7X4u7KU4gXrBgGqt8RlRrNNFLn03tLAHyxRxwA=',\n",
       "       'u6/Pb7X4u7KU4gXrBgGqt8RlRrNNFLn03tLAHyxRxwA=',\n",
       "       'ux6db2W4f9nhapYVkSg81Uzhxnw0vf44cFWHSd2EuJo=',\n",
       "       'vM08WBQRO9eZo1K+qTJmjuw2IqbuA3L65ojbGwB4GI0=',\n",
       "       'vTFRLU6zCXTVzFRL24gzZO3MsD5nlc/kKtjEuj29+h0=',\n",
       "       'wVUeoaIQXKvfVyfhDmbASVl049NL7hVvfOo7vYoSyMQ=',\n",
       "       'yv4Nasbw8r06KtMHzaEMF/SrpYPv+V73JrwFClUoRQ0=',\n",
       "       'yvaF60S5mJQ1SOk2vfNeZ9WFeUr7lWMq37OPExyeoaU=',\n",
       "       'ziioVtzot6FMViJgAMZliplvo7EmX3ecPuoZHXTr2Zo='], dtype=object)"
      ]
     },
     "execution_count": 9,
     "metadata": {},
     "output_type": "execute_result"
    },
    {
     "data": {
      "text/plain": [
       "numpy.ndarray"
      ]
     },
     "execution_count": 9,
     "metadata": {},
     "output_type": "execute_result"
    },
    {
     "data": {
      "text/plain": [
       "[['0LhkakIQDn36HZXI6ClQSO7W7jkpZAy+9MvYgPOZGrA=',\n",
       "  'MM+huiuccu4p5mNVhWxWgJreIsRWuEmvbvpCu0q79XM='],\n",
       " ['0LhkakIQDn36HZXI6ClQSO7W7jkpZAy+9MvYgPOZGrA=',\n",
       "  'K2jkXlozk/+HPjs1RyDlBUHJx2Ky+ITavwBXPcFqtHY='],\n",
       " ['0LhkakIQDn36HZXI6ClQSO7W7jkpZAy+9MvYgPOZGrA=',\n",
       "  'L6w2d0w84FjTvFr+BhMfgu7dZAsGiOqUGmvvxIG3gvQ='],\n",
       " ['0LhkakIQDn36HZXI6ClQSO7W7jkpZAy+9MvYgPOZGrA=',\n",
       "  'LBFRdBacp7Ob6Ada2N7uCQ47DhiNT2KjUtwOA7oSm7I='],\n",
       " ['0LhkakIQDn36HZXI6ClQSO7W7jkpZAy+9MvYgPOZGrA=',\n",
       "  'NDtSbLpLMkWyBAhfRimU73D/pKVWE6Z3Q2IEdmFuWNk='],\n",
       " ['0LhkakIQDn36HZXI6ClQSO7W7jkpZAy+9MvYgPOZGrA=',\n",
       "  'P6dllZw/ZnO7qcufxOKHAXGwlCvkmm4djJT/82d3ihA=']]"
      ]
     },
     "execution_count": 9,
     "metadata": {},
     "output_type": "execute_result"
    }
   ],
   "source": [
    "with open('song_person.dict', 'rb') as handle:\n",
    "    unserialized_song_person = pickle.load(handle)\n",
    "unserialized_song_person['BBzumQNXUHKdEBOB7mAJuzok+IJA1c2Ryg/yzTF6tik='] # one instance\n",
    "{k: v for k, v in unserialized_song_person.items() if len(v) >1} # to show that the list is working\n",
    "\n",
    "with open('song_id.txt', 'rb') as handle:\n",
    "    unserialized_song_id = pickle.load(handle)\n",
    "unserialized_song_id\n",
    "type(unserialized_song_id)\n",
    "\n",
    "with open('user_song_tuple.txt', 'rb') as handle:\n",
    "    unserialized_user_song_tuple = pickle.load(handle)\n",
    "unserialized_user_song_tuple[:6]"
   ]
  },
  {
   "cell_type": "code",
   "execution_count": null,
   "metadata": {},
   "outputs": [],
   "source": []
  }
 ],
 "metadata": {
  "kernelspec": {
   "display_name": "Python 3",
   "language": "python",
   "name": "python3"
  },
  "language_info": {
   "codemirror_mode": {
    "name": "ipython",
    "version": 3
   },
   "file_extension": ".py",
   "mimetype": "text/x-python",
   "name": "python",
   "nbconvert_exporter": "python",
   "pygments_lexer": "ipython3",
   "version": "3.6.8"
  },
  "toc": {
   "base_numbering": 1,
   "nav_menu": {},
   "number_sections": true,
   "sideBar": true,
   "skip_h1_title": false,
   "title_cell": "Table of Contents",
   "title_sidebar": "Contents",
   "toc_cell": false,
   "toc_position": {},
   "toc_section_display": true,
   "toc_window_display": false
  }
 },
 "nbformat": 4,
 "nbformat_minor": 2
}
