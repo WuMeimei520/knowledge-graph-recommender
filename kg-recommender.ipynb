{
 "cells": [
  {
   "cell_type": "code",
   "execution_count": 17,
   "metadata": {},
   "outputs": [
    {
     "ename": "ImportError",
     "evalue": "cannot import name 'format_paths'",
     "output_type": "error",
     "traceback": [
      "\u001b[0;31m---------------------------------------------------------------------------\u001b[0m",
      "\u001b[0;31mImportError\u001b[0m                               Traceback (most recent call last)",
      "\u001b[0;32m<ipython-input-17-6867e65c72c1>\u001b[0m in \u001b[0;36m<module>\u001b[0;34m()\u001b[0m\n\u001b[1;32m      9\u001b[0m \u001b[0;32mfrom\u001b[0m \u001b[0mmodel\u001b[0m \u001b[0;32mimport\u001b[0m \u001b[0mKPRN\u001b[0m\u001b[0;34m\u001b[0m\u001b[0m\n\u001b[1;32m     10\u001b[0m \u001b[0;32mfrom\u001b[0m \u001b[0mmodel\u001b[0m \u001b[0;32mimport\u001b[0m \u001b[0mtrain\u001b[0m\u001b[0;34m\u001b[0m\u001b[0m\n\u001b[0;32m---> 11\u001b[0;31m \u001b[0;32mfrom\u001b[0m \u001b[0mmodel\u001b[0m \u001b[0;32mimport\u001b[0m \u001b[0mformat_paths\u001b[0m\u001b[0;34m\u001b[0m\u001b[0m\n\u001b[0m\u001b[1;32m     12\u001b[0m \u001b[0;32mfrom\u001b[0m \u001b[0mmodel\u001b[0m \u001b[0;32mimport\u001b[0m \u001b[0mconstruct_ix_to_etr\u001b[0m\u001b[0;34m\u001b[0m\u001b[0m\n\u001b[1;32m     13\u001b[0m \u001b[0;32mfrom\u001b[0m \u001b[0mmodel\u001b[0m \u001b[0;32mimport\u001b[0m \u001b[0mscores_from_paths\u001b[0m\u001b[0;34m\u001b[0m\u001b[0m\n",
      "\u001b[0;31mImportError\u001b[0m: cannot import name 'format_paths'"
     ]
    }
   ],
   "source": [
    "import torch\n",
    "import torch.nn as nn\n",
    "import torch.nn.functional as F\n",
    "import torch.optim as optim\n",
    "\n",
    "from torch.utils.data import Dataset\n",
    "from torch.utils.data import DataLoader\n",
    "\n",
    "from model import KPRN\n",
    "from model import train\n",
    "from model import format_paths\n",
    "from model import construct_ix_to_etr\n",
    "from model import scores_from_paths"
   ]
  },
  {
   "cell_type": "code",
   "execution_count": 11,
   "metadata": {
    "collapsed": true
   },
   "outputs": [],
   "source": [
    "#For now some hardcoded paths\n",
    "training_data = [\n",
    "    ([['Sam', 'u', 'rate'], ['Song1', 's', 'category'], ['Pop', 't', '_belong'], ['Song2', 's', 'UNK']], 1),\n",
    "    ([['Sam', 'u', 'rate'], ['Song2', 's', 'UNK']], 1),\n",
    "    ([['Sam', 'u', 'rate'], ['Song1', 's', '_rate'], ['Joey', 'u', 'rate'],['Song3', 's', 'UNK']], 0),\n",
    "    ([['Sam', 'u', 'rate'], ['Song1', 's', '_rate'], ['Song3', 's', 'UNK']], 0)\n",
    "]\n",
    "\n",
    "#For now just construct example, later would want to automatically create maps from vocab\n",
    "e_to_ix = {'Sam': 0, 'Weijia': 1, 'Rosa': 2, 'Joey':3, 'Song1': 4, 'Song2': 5, 'Song3': 6, 'Pop': 7}\n",
    "t_to_ix = {'u': 0, 's': 1, 't': 2}\n",
    "r_to_ix = {'rate': 0, 'category': 1, 'belong': 2, '_rate': 3, '_category': 4, '_belong':5, 'UNK': 6}\n",
    "\n"
   ]
  },
  {
   "cell_type": "code",
   "execution_count": 14,
   "metadata": {
    "collapsed": true
   },
   "outputs": [],
   "source": [
    "formatted_data = format_paths(training_data, e_to_ix, t_to_ix, r_to_ix)\n",
    "print(formatted_data)"
   ]
  },
  {
   "cell_type": "code",
   "execution_count": 15,
   "metadata": {},
   "outputs": [
    {
     "name": "stdout",
     "output_type": "stream",
     "text": [
      "loss is: 0.689369261264801\n",
      "loss is: 0.76514732837677\n",
      "loss is: 0.18956415355205536\n",
      "loss is: 0.012585973367094994\n",
      "loss is: 0.002468421822413802\n",
      "loss is: 0.0013058000477030873\n",
      "loss is: 0.0023395130410790443\n",
      "loss is: 0.0010367024224251509\n",
      "loss is: 0.0021105571649968624\n",
      "loss is: 0.0009116546134464443\n",
      "loss is: 0.0018938245484605432\n",
      "loss is: 0.0009006972541101277\n",
      "loss is: 0.0017486178549006581\n",
      "loss is: 0.000895933189895004\n",
      "loss is: 0.0016612252220511436\n",
      "loss is: 0.0008818790083751082\n",
      "loss is: 0.001612761989235878\n",
      "loss is: 0.0008629412623122334\n",
      "loss is: 0.0015740874223411083\n",
      "loss is: 0.0008500776602886617\n"
     ]
    }
   ],
   "source": [
    "model = train(formatted_data, e_to_ix, t_to_ix, r_to_ix)"
   ]
  },
  {
   "cell_type": "code",
   "execution_count": 16,
   "metadata": {},
   "outputs": [
    {
     "name": "stdout",
     "output_type": "stream",
     "text": [
      "paths and scores of form: [loss for tag 0, loss for tag 1]:\n",
      "\n",
      "[['Sam', 'u', 'rate'], ['Song1', 's', 'category'], ['Pop', 't', '_belong'], ['Song2', 's', 'UNK']]\n",
      "tensor([-6.4133e+00, -1.6410e-03])\n",
      "[['Sam', 'u', 'rate'], ['Song1', 's', '_rate'], ['Joey', 'u', 'rate'], ['Song3', 's', 'UNK']]\n",
      "tensor([-7.7992e-04, -7.1568e+00])\n",
      "[['Sam', 'u', 'rate'], ['Song2', 's', 'UNK']]\n",
      "tensor([-6.1153e+00, -2.2113e-03])\n",
      "[['Sam', 'u', 'rate'], ['Song1', 's', '_rate'], ['Song3', 's', 'UNK']]\n",
      "tensor([-8.3876e-04, -7.0840e+00])\n"
     ]
    }
   ],
   "source": [
    "ix_to_etr = construct_ix_to_etr(e_to_ix, t_to_ix, r_to_ix)\n",
    "\n",
    "scores_from_paths(model, formatted_data, 3, ix_to_etr)"
   ]
  },
  {
   "cell_type": "code",
   "execution_count": null,
   "metadata": {
    "collapsed": true
   },
   "outputs": [],
   "source": []
  }
 ],
 "metadata": {
  "kernelspec": {
   "display_name": "Python 3",
   "language": "python",
   "name": "python3"
  }
 },
 "nbformat": 4,
 "nbformat_minor": 2
}
