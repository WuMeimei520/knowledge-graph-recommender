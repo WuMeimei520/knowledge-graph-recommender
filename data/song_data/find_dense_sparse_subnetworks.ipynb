{
 "cells": [
  {
   "cell_type": "code",
   "execution_count": 1,
   "metadata": {},
   "outputs": [],
   "source": [
    "import pickle\n",
    "import pandas as pd\n",
    "import numpy as np\n",
    "import math\n",
    "import random\n",
    "from tqdm import tqdm\n",
    "from collections import defaultdict"
   ]
  },
  {
   "cell_type": "markdown",
   "metadata": {},
   "source": [
    "## Load Data"
   ]
  },
  {
   "cell_type": "code",
   "execution_count": 3,
   "metadata": {},
   "outputs": [],
   "source": [
    "with open('song_user.dict', 'rb') as handle:\n",
    "    unserialized_song_user = pickle.load(handle) #dict\n",
    "    \n",
    "with open('user_song.dict', 'rb') as handle:\n",
    "    unserialized_user_song = pickle.load(handle) #dict\n",
    "    \n",
    "with open('song_person.dict', 'rb') as handle:\n",
    "    unserialized_song_person = pickle.load(handle) #dict\n",
    "    \n",
    "with open('person_song.dict', 'rb') as handle:\n",
    "    unserialized_person_song = pickle.load(handle) #dict\n",
    "\n",
    "with open('song_id.txt', 'rb') as handle:\n",
    "    unserialized_song_id = pickle.load(handle) #numpy.ndarray\n",
    "    \n",
    "with open('user_id.txt', 'rb') as handle:\n",
    "    unserialized_user_id = pickle.load(handle) #numpy.ndarray\n",
    "    \n",
    "with open('person_id.txt', 'rb') as handle:\n",
    "    unserialized_person_id = pickle.load(handle) #numpy.ndarray"
   ]
  },
  {
   "cell_type": "code",
   "execution_count": 4,
   "metadata": {},
   "outputs": [],
   "source": [
    "# turn the relation dictionaries to defaultdict that return [] for a node that is not in the keys\n",
    "unserialized_song_user = defaultdict(list, unserialized_song_user)\n",
    "unserialized_song_person = defaultdict(list, unserialized_song_person)\n",
    "unserialized_user_song = defaultdict(list, unserialized_user_song)\n",
    "unserialized_person_song = defaultdict(list, unserialized_person_song)"
   ]
  },
  {
   "cell_type": "markdown",
   "metadata": {},
   "source": [
    "## Sort Nodes By Degree"
   ]
  },
  {
   "cell_type": "code",
   "execution_count": 5,
   "metadata": {},
   "outputs": [
    {
     "name": "stdout",
     "output_type": "stream",
     "text": [
      "There are 2296372 songs in the network\n"
     ]
    }
   ],
   "source": [
    "# key: song, value: number of users listening to it + number of person relating to its creation\n",
    "song_degree_dict = {}\n",
    "for (k,v) in unserialized_song_user.items():\n",
    "    song_degree_dict[k] = v\n",
    "for (k,v) in unserialized_song_person.items():\n",
    "    if k in song_degree_dict.keys():\n",
    "        song_degree_dict[k] = song_degree_dict[k] + v\n",
    "    else:\n",
    "        song_degree_dict[k] = v\n",
    "song_degree = [(k,len(v)) for (k,v) in song_degree_dict.items()]\n",
    "print('There are %d songs in the network' % len(song_degree))\n",
    "\n",
    "# sort by degree in descending order\n",
    "song_degree.sort(key = lambda x : -x[1])"
   ]
  },
  {
   "cell_type": "code",
   "execution_count": 6,
   "metadata": {},
   "outputs": [
    {
     "name": "stdout",
     "output_type": "stream",
     "text": [
      "There are 527630 persons in the network\n"
     ]
    }
   ],
   "source": [
    "# key: person, value: number of songs they create\n",
    "person_degree = [(k,len(v)) for (k,v) in unserialized_person_song.items()]\n",
    "print('There are %d persons in the network' % len(person_degree))\n",
    "\n",
    "# sort by degree in descending order\n",
    "person_degree.sort(key = lambda x : -x[1])"
   ]
  },
  {
   "cell_type": "code",
   "execution_count": 7,
   "metadata": {},
   "outputs": [
    {
     "name": "stdout",
     "output_type": "stream",
     "text": [
      "There are 30755 users in the network\n"
     ]
    }
   ],
   "source": [
    "# key: user, value: number of songs they listen to\n",
    "user_degree = [(k,len(v)) for (k,v) in unserialized_user_song.items()]\n",
    "print('There are %d users in the network' % len(user_degree))\n",
    "\n",
    "# sort by degree in descending order\n",
    "user_degree.sort(key = lambda x : -x[1])"
   ]
  },
  {
   "cell_type": "markdown",
   "metadata": {},
   "source": [
    "## Construct Subnetworks"
   ]
  },
  {
   "cell_type": "code",
   "execution_count": 9,
   "metadata": {},
   "outputs": [],
   "source": [
    "def find_edges(nodes_list):\n",
    "    # (node1, node2) and (node2, node1) both exist\n",
    "    edges_type1 = [] # a list of pairs (song, user)\n",
    "    edges_type2 = [] # a list of pairs (song, person)\n",
    "    edges_type3 = [] # a list of pairs (user, song)\n",
    "    edges_type4 = [] # a list of pairs (person, song)\n",
    "    nodes_set = set(nodes_list)\n",
    "    \n",
    "    for i in tqdm(nodes_set): # (node1, node2) and (node2, node1) both exist\n",
    "        connect_1 = set(unserialized_song_user[i]).intersection(nodes_set)\n",
    "        for j in connect_1:\n",
    "            edges_type1.append((i,j))\n",
    "\n",
    "        connect_2 = set(unserialized_song_person[i]).intersection(nodes_set)\n",
    "        for j in connect_2:\n",
    "            edges_type2.append((i,j))\n",
    "\n",
    "        connect_3 = set(unserialized_user_song[i]).intersection(nodes_set)\n",
    "        for j in connect_3:\n",
    "            edges_type3.append((i,j))\n",
    "\n",
    "        connect_4 = set(unserialized_person_song[i]).intersection(nodes_set)\n",
    "        for j in connect_4:\n",
    "            edges_type4.append((i,j))\n",
    "\n",
    "    return edges_type1, edges_type2, edges_type3, edges_type4"
   ]
  },
  {
   "cell_type": "markdown",
   "metadata": {},
   "source": [
    "### Construct Sparse Subnet (not using random sampling) "
   ]
  },
  {
   "cell_type": "code",
   "execution_count": 10,
   "metadata": {},
   "outputs": [
    {
     "name": "stdout",
     "output_type": "stream",
     "text": [
      "finding the nodes...\n",
      "sparse nodes: 229637 songs, 3075 users, 52763 persons.\n",
      "total number sparse nodes: 285475.\n"
     ]
    }
   ],
   "source": [
    "# construct sparse subnetwork\n",
    "sparse_nodes_percent = 0.1\n",
    "\n",
    "# find the nodes\n",
    "print('finding the nodes...')\n",
    "sparse_song_nodes_holder = song_degree[-int(len(song_degree)*sparse_nodes_percent):] #song_id is the first item in the tuple element of the returned list\n",
    "sparse_song_nodes = [node_holder[0] for node_holder in sparse_song_nodes_holder]\n",
    "\n",
    "sparse_user_nodes_holder = user_degree[-int(len(user_degree)*sparse_nodes_percent):]\n",
    "sparse_user_nodes = [node_holder[0] for node_holder in sparse_user_nodes_holder]\n",
    "\n",
    "sparse_person_nodes_holder = person_degree[-int(len(person_degree)*sparse_nodes_percent):]\n",
    "sparse_person_nodes = [node_holder[0] for node_holder in sparse_person_nodes_holder]\n",
    "\n",
    "sparse_nodes = sparse_song_nodes + sparse_user_nodes + sparse_person_nodes\n",
    "\n",
    "print('sparse nodes: %d songs, %d users, %d persons.' % (len(sparse_song_nodes),\\\n",
    "                                                                                         len(sparse_user_nodes), \\\n",
    "                                                                                         len(sparse_person_nodes)))\n",
    "print('total number sparse nodes: %d.' % len(sparse_nodes))"
   ]
  },
  {
   "cell_type": "code",
   "execution_count": 11,
   "metadata": {},
   "outputs": [
    {
     "name": "stderr",
     "output_type": "stream",
     "text": [
      "100%|██████████| 285473/285473 [00:04<00:00, 60058.83it/s] "
     ]
    },
    {
     "name": "stdout",
     "output_type": "stream",
     "text": [
      "num edges:  24068\n"
     ]
    },
    {
     "name": "stderr",
     "output_type": "stream",
     "text": [
      "\n"
     ]
    }
   ],
   "source": [
    "# construct sparse subnetwork\n",
    "# build the subnetwork --> find the edges\n",
    "# (node1, node2) and (node2, node1) both exist\n",
    "sparse_edges_type1, sparse_edges_type2, sparse_edges_type3, sparse_edges_type4 = find_edges(sparse_nodes)\n",
    "sparse_edges = sparse_edges_type1 + sparse_edges_type2 + sparse_edges_type3 + sparse_edges_type4\n",
    "print('num edges: ', len(sparse_edges))"
   ]
  },
  {
   "cell_type": "markdown",
   "metadata": {},
   "source": [
    "### Construct Sparse Subnet (random sampling) "
   ]
  },
  {
   "cell_type": "code",
   "execution_count": 12,
   "metadata": {},
   "outputs": [
    {
     "name": "stdout",
     "output_type": "stream",
     "text": [
      "finding the nodes...\n",
      "rs sparse nodes: 229637 songs, 3075 users, 52763 persons.\n",
      "total number rs sparse nodes: 285475.\n"
     ]
    }
   ],
   "source": [
    "# construct sparse subnetwork\n",
    "rs_sparse_nodes_percent = 0.1\n",
    "\n",
    "# find the nodes\n",
    "print('finding the nodes...')\n",
    "rs_sparse_song_nodes_holder = random.sample(song_degree, int(len(song_degree)*rs_sparse_nodes_percent)) #song_id is the first item in the tuple element of the returned list\n",
    "rs_sparse_song_nodes = [node_holder[0] for node_holder in rs_sparse_song_nodes_holder]\n",
    "\n",
    "rs_sparse_user_nodes_holder = random.sample(user_degree, int(len(user_degree)*rs_sparse_nodes_percent))\n",
    "rs_sparse_user_nodes = [node_holder[0] for node_holder in rs_sparse_user_nodes_holder]\n",
    "\n",
    "rs_sparse_person_nodes_holder = random.sample(person_degree, int(len(person_degree)*rs_sparse_nodes_percent))\n",
    "rs_sparse_person_nodes = [node_holder[0] for node_holder in rs_sparse_person_nodes_holder]\n",
    "\n",
    "rs_sparse_nodes = rs_sparse_song_nodes + rs_sparse_user_nodes + rs_sparse_person_nodes\n",
    "\n",
    "print('rs sparse nodes: %d songs, %d users, %d persons.' % (len(rs_sparse_song_nodes),\\\n",
    "                                                                                         len(rs_sparse_user_nodes), \\\n",
    "                                                                                         len(rs_sparse_person_nodes)))\n",
    "print('total number rs sparse nodes: %d.' % len(rs_sparse_nodes))"
   ]
  },
  {
   "cell_type": "code",
   "execution_count": 13,
   "metadata": {},
   "outputs": [
    {
     "name": "stderr",
     "output_type": "stream",
     "text": [
      "100%|██████████| 285473/285473 [00:03<00:00, 72203.86it/s] "
     ]
    },
    {
     "name": "stdout",
     "output_type": "stream",
     "text": [
      "num edges:  258512\n"
     ]
    },
    {
     "name": "stderr",
     "output_type": "stream",
     "text": [
      "\n"
     ]
    }
   ],
   "source": [
    "# construct sparse subnetwork\n",
    "# build the subnetwork --> find the edges\n",
    "# (node1, node2) and (node2, node1) both exist\n",
    "rs_sparse_edges_type1, rs_sparse_edges_type2, rs_sparse_edges_type3, rs_sparse_edges_type4 = \\\n",
    "                                                                                                                    find_edges(rs_sparse_nodes)\n",
    "\n",
    "rs_sparse_edges = rs_sparse_edges_type1 + rs_sparse_edges_type2 + rs_sparse_edges_type3 + rs_sparse_edges_type4\n",
    "print('num edges: ', len(rs_sparse_edges))"
   ]
  },
  {
   "cell_type": "markdown",
   "metadata": {},
   "source": [
    "### Construct Dense Subnet (not using random sampling) "
   ]
  },
  {
   "cell_type": "code",
   "execution_count": 14,
   "metadata": {},
   "outputs": [
    {
     "name": "stdout",
     "output_type": "stream",
     "text": [
      "finding the nodes...\n",
      "dense nodes: 229637 songs, 3075 users, 52763 persons.\n",
      "total number dense nodes: 285475.\n"
     ]
    }
   ],
   "source": [
    "# construct dense subnetwork\n",
    "dense_nodes_percent = 0.1\n",
    "\n",
    "# find the nodes\n",
    "print('finding the nodes...')\n",
    "dense_song_nodes_holder = song_degree[:int(len(song_degree)*dense_nodes_percent)] #song_id is the first item in the tuple element of the returned list\n",
    "dense_song_nodes = [node_holder[0] for node_holder in dense_song_nodes_holder]\n",
    "\n",
    "dense_user_nodes_holder = user_degree[:int(len(user_degree)*dense_nodes_percent)]\n",
    "dense_user_nodes = [node_holder[0] for node_holder in dense_user_nodes_holder]\n",
    "\n",
    "dense_person_nodes_holder = person_degree[:int(len(person_degree)*dense_nodes_percent)]\n",
    "dense_person_nodes = [node_holder[0] for node_holder in dense_person_nodes_holder]\n",
    "\n",
    "dense_nodes = dense_song_nodes + dense_user_nodes + dense_person_nodes\n",
    "\n",
    "print('dense nodes: %d songs, %d users, %d persons.' % (len(dense_song_nodes),\\\n",
    "                                                                                         len(dense_user_nodes), \\\n",
    "                                                                                         len(dense_person_nodes)))\n",
    "print('total number dense nodes: %d.' % len(dense_nodes))"
   ]
  },
  {
   "cell_type": "code",
   "execution_count": 16,
   "metadata": {},
   "outputs": [
    {
     "name": "stderr",
     "output_type": "stream",
     "text": [
      "100%|██████████| 285470/285470 [00:10<00:00, 26989.40it/s]\n"
     ]
    },
    {
     "name": "stdout",
     "output_type": "stream",
     "text": [
      "num edges:  6967762\n"
     ]
    }
   ],
   "source": [
    "# construct sparse subnetwork\n",
    "# build the subnetwork --> find the edges\n",
    "# (node1, node2) and (node2, node1) both exist\n",
    "dense_edges_type1, dense_edges_type2, dense_edges_type3, dense_edges_type4 = find_edges(dense_nodes)\n",
    "dense_edges = dense_edges_type1 + dense_edges_type2 + dense_edges_type3 + dense_edges_type4\n",
    "print('num edges: ', len(dense_edges))"
   ]
  },
  {
   "cell_type": "markdown",
   "metadata": {},
   "source": [
    "## Construct Entire Network"
   ]
  },
  {
   "cell_type": "code",
   "execution_count": null,
   "metadata": {},
   "outputs": [],
   "source": [
    "# comment out because takes too long\n",
    "'''\n",
    "# construct entire network\n",
    "# find the nodes\n",
    "print('finding the nodes...')\n",
    "entire_net_song_nodes = [node_holder[0] for node_holder in song_degree]\n",
    "entire_net_user_nodes = [node_holder[0] for node_holder in user_degree]\n",
    "entire_net_person_nodes = [node_holder[0] for node_holder in person_degree]\n",
    "entire_net_nodes = entire_net_song_nodes + entire_net_user_nodes + entire_net_person_nodes\n",
    "\n",
    "# build the subnetwork --> find the edges\n",
    "print('finding the edges...')\n",
    "entire_net_edge = [] # a list of pairs (node1, node2)\n",
    "connect = [] # a list of nodes that the node1 should connect to\n",
    "for i in entire_net_nodes: # (node1, node2) and (node2, node1) both exist\n",
    "    if i in unserialized_song_user:\n",
    "        connect = unserialized_song_user[i]\n",
    "        if i in unserialized_song_person:\n",
    "            connect.extend(unserialized_song_person[i])\n",
    "    elif i in unserialized_song_person:\n",
    "        connect = unserialized_song_person[i]\n",
    "        if i in unserialized_song_user:\n",
    "            connect.extend(unserialized_song_user[i])\n",
    "    elif i in unserialized_user_song:\n",
    "        connect = unserialized_user_song[i]\n",
    "    elif i in unserialized_person_song:\n",
    "        connect = unserialized_person_song[i]\n",
    "    else:\n",
    "        print('Error: key error!')\n",
    "    new_edges = [(i, j) for j in connect]\n",
    "    entire_net_edge.extend(new_edges)\n",
    "'''"
   ]
  },
  {
   "cell_type": "markdown",
   "metadata": {},
   "source": [
    "## Compute Statistics & Density Heuristic"
   ]
  },
  {
   "cell_type": "code",
   "execution_count": 18,
   "metadata": {},
   "outputs": [
    {
     "name": "stdout",
     "output_type": "stream",
     "text": [
      "sparse subnet density heuristic:  1.8770173365290796e-06\n",
      "sparse subnet has 285475 nodes\n",
      "sparse subnet has 24068 edges\n"
     ]
    }
   ],
   "source": [
    "# compute the density heuristic \n",
    "sparse_net_density = len(sparse_edges) / (len(sparse_song_nodes) * \\\n",
    "                                                                (len(sparse_user_nodes) + len(sparse_person_nodes)))\n",
    "print('sparse subnet density heuristic: ', sparse_net_density)\n",
    "\n",
    "# number of nodes\n",
    "print('sparse subnet has %d nodes' % len(sparse_nodes))\n",
    "\n",
    "# number of edges \n",
    "print('sparse subnet has %d edges' % len(sparse_edges))"
   ]
  },
  {
   "cell_type": "markdown",
   "metadata": {},
   "source": [
    "### Results:\n",
    "sparse subnet density heuristic:  1.8770173365290796e-06\n",
    "\n",
    "sparse subnet has 285475 nodes\n",
    "\n",
    "sparse subnet has 24068 edges"
   ]
  },
  {
   "cell_type": "code",
   "execution_count": 19,
   "metadata": {},
   "outputs": [
    {
     "name": "stdout",
     "output_type": "stream",
     "text": [
      "(randomly sampled) sparse subnet density heuristic:  2.016085697610127e-05\n",
      "(randomly sampled) sparse subnet has 285475 nodes\n",
      "(randomly sampled) sparse subnet has 258512 edges\n"
     ]
    }
   ],
   "source": [
    "# compute the density heuristic \n",
    "rs_sparse_net_density = len(rs_sparse_edges) / (len(rs_sparse_song_nodes) * \\\n",
    "                                                                        (len(rs_sparse_user_nodes) + len(rs_sparse_person_nodes)))\n",
    "print('(randomly sampled) sparse subnet density heuristic: ', rs_sparse_net_density)\n",
    "\n",
    "# number of nodes\n",
    "print('(randomly sampled) sparse subnet has %d nodes' % len(rs_sparse_nodes))\n",
    "\n",
    "# number of edges \n",
    "print('(randomly sampled) sparse subnet has %d edges' % len(rs_sparse_edges))"
   ]
  },
  {
   "cell_type": "markdown",
   "metadata": {},
   "source": [
    "### Results:\n",
    "rs sparse subnet density heuristic:  1.8549233107920558e-05\n",
    "\n",
    "rs sparse subnet has 285475 nodes\n",
    "\n",
    "rs sparse subnet has 237847 edges"
   ]
  },
  {
   "cell_type": "code",
   "execution_count": 20,
   "metadata": {},
   "outputs": [
    {
     "name": "stdout",
     "output_type": "stream",
     "text": [
      "dense subnet density heuristic:  0.0005434024460199657\n",
      "dense subnet has 285475 nodes\n",
      "dense subnet has 6967762 edges\n"
     ]
    }
   ],
   "source": [
    "# compute the density heuristic \n",
    "dense_net_density = len(dense_edges) / (len(dense_song_nodes) * \\\n",
    "                                                                (len(dense_user_nodes) + len(dense_person_nodes)))\n",
    "print('dense subnet density heuristic: ', dense_net_density)\n",
    "\n",
    "# number of nodes\n",
    "print('dense subnet has %d nodes' % len(dense_nodes))\n",
    "\n",
    "# number of edges \n",
    "print('dense subnet has %d edges' % len(dense_edges))"
   ]
  },
  {
   "cell_type": "markdown",
   "metadata": {},
   "source": [
    "### Results\n",
    "dense subnet density heuristic:  0.0005436736885950217\n",
    "\n",
    "dense subnet has 285475 nodes\n",
    "\n",
    "dense subnet has 6971240 edges"
   ]
  },
  {
   "cell_type": "code",
   "execution_count": null,
   "metadata": {},
   "outputs": [],
   "source": [
    "'''\n",
    "# compute the density heuristic \n",
    "entire_net_density = len(entire_net_edge) / (len(entire_net_song_nodes) * \\\n",
    "                                                                (len(entire_net_user_nodes) + len(entire_net_person_nodes)))\n",
    "print('entire subnet density heuristic: ', entire_net_density)\n",
    "\n",
    "# number of nodes\n",
    "print('entire subnet has %d nodes' % len(entire_net_nodes))\n",
    "\n",
    "# number of edges \n",
    "print('entire subnet has %d nodes' % len(entire_net_edge))\n",
    "'''"
   ]
  },
  {
   "cell_type": "markdown",
   "metadata": {},
   "source": [
    "## Export Subnetworks"
   ]
  },
  {
   "cell_type": "code",
   "execution_count": 81,
   "metadata": {},
   "outputs": [],
   "source": [
    "def export_subnetwork(network_type, all_nodes, person_nodes, song_nodes, user_nodes, \\\n",
    "                                 all_edges, edges_type1, edges_type2, edges_type3, edges_type4):\n",
    "    #network_type is a string, the other params are lists and dictionaries \n",
    "    \n",
    "    # <NETWORK TYPE>_nodes.txt\n",
    "    all_nodes_np = np.array(all_nodes) # numpy array of nodes of sparse network\n",
    "    with open('%s_nodes.txt' % network_type, 'wb') as handle:\n",
    "        pickle.dump(all_nodes_np, handle, protocol=pickle.HIGHEST_PROTOCOL)\n",
    "\n",
    "    # <NETWORK TYPE>_edges.txt\n",
    "    # key: source, value: target\n",
    "    # note that node1 -> node2 and node2 -> node1 are both present in this dictionary\n",
    "    all_edges_dict = {pair[0]:pair[1] for pair in all_edges}\n",
    "    with open('%s_edges.dict' % network_type, 'wb') as handle:\n",
    "        pickle.dump(all_edges_dict, handle, protocol=pickle.HIGHEST_PROTOCOL)\n",
    "        \n",
    "    # <NETWORK TYPE>_song_nodes.txt\n",
    "    sparse_song_nodes_np = np.array(sparse_song_nodes) # numpy array of nodes of sparse network\n",
    "    with open('sparse_song_nodes.txt', 'wb') as handle:\n",
    "        pickle.dump(sparse_song_nodes_np, handle, protocol=pickle.HIGHEST_PROTOCOL)\n",
    "\n",
    "    # <NETWORK TYPE>_user_nodes.txt\n",
    "    sparse_user_nodes_np = np.array(sparse_user_nodes) # numpy array of nodes of sparse network\n",
    "    with open('sparse_user_nodes.txt', 'wb') as handle:\n",
    "        pickle.dump(sparse_user_nodes_np, handle, protocol=pickle.HIGHEST_PROTOCOL)\n",
    "\n",
    "    # <NETWORK TYPE>_person_nodes.txt\n",
    "    sparse_person_nodes_np = np.array(sparse_person_nodes) # numpy array of nodes of sparse network\n",
    "    with open('sparse_person_nodes.txt', 'wb') as handle:\n",
    "        pickle.dump(sparse_person_nodes_np, handle, protocol=pickle.HIGHEST_PROTOCOL)\n",
    "        \n",
    "    # <NETWORK TYPE>_song_user_edges.dict\n",
    "    # key: song, value: a list of users\n",
    "    song_user_dict = defaultdict(list)\n",
    "    for edge in edges_type1:\n",
    "        song = edge[0]\n",
    "        user = edge[1]\n",
    "        song_user_dict[song].append(user)\n",
    "    song_user_dict = dict(song_user_dict)\n",
    "    with open('%s_song_user_edges.dict' % network_type, 'wb') as handle:\n",
    "        pickle.dump(song_user_dict, handle, protocol=pickle.HIGHEST_PROTOCOL)\n",
    "        \n",
    "    # <NETWORK TYPE>_song_person_edges.dict\n",
    "    # key: song, value: a list of persons\n",
    "    song_person_dict = defaultdict(list)\n",
    "    for edge in edges_type2:\n",
    "        song = edge[0]\n",
    "        person = edge[1]\n",
    "        song_person_dict[song].append(person)\n",
    "    song_person_dict = dict(song_person_dict)\n",
    "    with open('%s_song_person_edges.dict' % network_type, 'wb') as handle:\n",
    "        pickle.dump(song_person_dict, handle, protocol=pickle.HIGHEST_PROTOCOL)\n",
    "        \n",
    "    # <NETWORK TYPE>_user_song_edges.dict\n",
    "    # key: user, value: a list of songs\n",
    "    user_song_dict = defaultdict(list)\n",
    "    for edge in edges_type3:\n",
    "        user = edge[0]\n",
    "        song = edge[1]\n",
    "        user_song_dict[song].append(song)\n",
    "    user_song_dict = dict(user_song_dict)\n",
    "    with open('%s_user_song_edges.dict' % network_type, 'wb') as handle:\n",
    "        pickle.dump(user_song_dict, handle, protocol=pickle.HIGHEST_PROTOCOL)\n",
    "        \n",
    "    # <NETWORK TYPE>_person_song_edges.dict\n",
    "    # key: person, value: a list of songs\n",
    "    person_song_dict = defaultdict(list)\n",
    "    for edge in edges_type4:\n",
    "        person = edge[0]\n",
    "        song = edge[1]\n",
    "        person_song_dict[song].append(song)\n",
    "    person_song_dict = dict(person_song_dict)\n",
    "    with open('%s_person_song_edges.dict' % network_type, 'wb') as handle:\n",
    "        pickle.dump(person_song_dict, handle, protocol=pickle.HIGHEST_PROTOCOL)"
   ]
  },
  {
   "cell_type": "code",
   "execution_count": 82,
   "metadata": {},
   "outputs": [],
   "source": [
    "export_subnetwork('sparse', sparse_nodes, sparse_person_nodes, \\\n",
    "                            sparse_song_nodes, sparse_user_nodes, \\\n",
    "                            sparse_edges, sparse_edges_type1, sparse_edges_type2, \\\n",
    "                            sparse_edges_type3, sparse_edges_type4)"
   ]
  },
  {
   "cell_type": "code",
   "execution_count": 83,
   "metadata": {},
   "outputs": [],
   "source": [
    "export_subnetwork('rs_sparse', rs_sparse_nodes, rs_sparse_person_nodes, \\\n",
    "                            rs_sparse_song_nodes, rs_sparse_user_nodes, \\\n",
    "                            rs_sparse_edges, rs_sparse_edges_type1, rs_sparse_edges_type2, \\\n",
    "                            rs_sparse_edges_type3, rs_sparse_edges_type4)"
   ]
  },
  {
   "cell_type": "code",
   "execution_count": null,
   "metadata": {},
   "outputs": [],
   "source": [
    "export_subnetwork('dense', dense_nodes, dense_person_nodes, \\\n",
    "                            dense_song_nodes, dense_user_nodes, \\\n",
    "                            dense_edges, dense_edges_type1, dense_edges_type2, \\\n",
    "                            dense_edges_type3, dense_edges_type4)"
   ]
  },
  {
   "cell_type": "markdown",
   "metadata": {},
   "source": [
    "## Test Loading The Saved Subnets"
   ]
  },
  {
   "cell_type": "code",
   "execution_count": 56,
   "metadata": {},
   "outputs": [
    {
     "data": {
      "text/plain": [
       "285475"
      ]
     },
     "execution_count": 56,
     "metadata": {},
     "output_type": "execute_result"
    }
   ],
   "source": [
    "with open('sparse_nodes.txt', 'rb') as handle:\n",
    "    unpickled_sparse_nodes = pickle.load(handle)\n",
    "unpickled_sparse_net_nodes[:5]\n",
    "len(unpickled_sparse_nodes)"
   ]
  },
  {
   "cell_type": "code",
   "execution_count": 57,
   "metadata": {},
   "outputs": [
    {
     "data": {
      "text/plain": [
       "24068"
      ]
     },
     "execution_count": 57,
     "metadata": {},
     "output_type": "execute_result"
    }
   ],
   "source": [
    "with open('sparse_edges.dict', 'rb') as handle:\n",
    "    unpickled_sparse_edges = pickle.load(handle)\n",
    "len(unpickled_sparse_edges)"
   ]
  },
  {
   "cell_type": "code",
   "execution_count": 60,
   "metadata": {},
   "outputs": [
    {
     "data": {
      "text/plain": [
       "285475"
      ]
     },
     "execution_count": 60,
     "metadata": {},
     "output_type": "execute_result"
    }
   ],
   "source": [
    "with open('sparse_person_nodes.txt', 'rb') as handle:\n",
    "    unpickled_sparse_person_nodes = pickle.load(handle)\n",
    "unpickled_sparse_person_nodes[:5]\n",
    "len(unpickled_sparse_net_nodes)"
   ]
  },
  {
   "cell_type": "code",
   "execution_count": 80,
   "metadata": {},
   "outputs": [
    {
     "data": {
      "text/plain": [
       "11948"
      ]
     },
     "execution_count": 80,
     "metadata": {},
     "output_type": "execute_result"
    }
   ],
   "source": [
    "with open('rs_sparse_song_user_edges.dict', 'rb') as handle:\n",
    "    unpickled_rs_sparse_song_user_edges = pickle.load(handle)\n",
    "len(unpickled_rs_sparse_song_user_edges)"
   ]
  },
  {
   "cell_type": "code",
   "execution_count": 84,
   "metadata": {},
   "outputs": [
    {
     "data": {
      "text/plain": [
       "38330"
      ]
     },
     "execution_count": 84,
     "metadata": {},
     "output_type": "execute_result"
    }
   ],
   "source": [
    "with open('rs_sparse_song_person_edges.dict', 'rb') as handle:\n",
    "    unpickled_rs_sparse_song_user_edges = pickle.load(handle)\n",
    "len(unpickled_rs_sparse_song_user_edges)"
   ]
  },
  {
   "cell_type": "code",
   "execution_count": 85,
   "metadata": {},
   "outputs": [
    {
     "data": {
      "text/plain": [
       "11948"
      ]
     },
     "execution_count": 85,
     "metadata": {},
     "output_type": "execute_result"
    }
   ],
   "source": [
    "with open('rs_sparse_user_song_edges.dict', 'rb') as handle:\n",
    "    unpickled_rs_sparse_song_user_edges = pickle.load(handle)\n",
    "len(unpickled_rs_sparse_song_user_edges)"
   ]
  },
  {
   "cell_type": "code",
   "execution_count": 86,
   "metadata": {},
   "outputs": [
    {
     "data": {
      "text/plain": [
       "38330"
      ]
     },
     "execution_count": 86,
     "metadata": {},
     "output_type": "execute_result"
    }
   ],
   "source": [
    "with open('rs_sparse_person_song_edges.dict', 'rb') as handle:\n",
    "    unpickled_rs_sparse_song_user_edges = pickle.load(handle)\n",
    "len(unpickled_rs_sparse_song_user_edges)"
   ]
  },
  {
   "cell_type": "code",
   "execution_count": null,
   "metadata": {},
   "outputs": [],
   "source": []
  }
 ],
 "metadata": {
  "kernelspec": {
   "display_name": "Python 3",
   "language": "python",
   "name": "python3"
  },
  "language_info": {
   "codemirror_mode": {
    "name": "ipython",
    "version": 3
   },
   "file_extension": ".py",
   "mimetype": "text/x-python",
   "name": "python",
   "nbconvert_exporter": "python",
   "pygments_lexer": "ipython3",
   "version": "3.6.8"
  }
 },
 "nbformat": 4,
 "nbformat_minor": 2
}
