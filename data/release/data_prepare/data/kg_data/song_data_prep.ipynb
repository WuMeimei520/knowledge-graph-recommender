{
 "cells": [
  {
   "cell_type": "code",
   "execution_count": 3,
   "metadata": {},
   "outputs": [],
   "source": [
    "import pandas as pd\n",
    "import pickle\n",
    "import numpy as np\n",
    "import math\n",
    "from IPython.core.interactiveshell import InteractiveShell\n",
    "InteractiveShell.ast_node_interactivity = \"all\""
   ]
  },
  {
   "cell_type": "code",
   "execution_count": 4,
   "metadata": {},
   "outputs": [],
   "source": [
    "songs = pd.read_csv(\"songs.csv\")[:100]\n",
    "train = pd.read_csv(\"train.csv\")[:100]\n",
    "members = pd.read_csv(\"members.csv\")\n",
    "sample_submission = pd.read_csv(\"sample_submission.csv\")"
   ]
  },
  {
   "cell_type": "markdown",
   "metadata": {},
   "source": [
    "## Serialize into dict & arrays"
   ]
  },
  {
   "cell_type": "code",
   "execution_count": 16,
   "metadata": {},
   "outputs": [],
   "source": [
    "# dict where key = song_id, value = list of user_ids\n",
    "song_user = train[['song_id', 'msno']].set_index('song_id').groupby('song_id')['msno'].apply(list).to_dict()\n",
    "# msno is the user_id\n",
    "with open('song_user.dict', 'wb') as handle:\n",
    "    pickle.dump(song_user, handle, protocol=pickle.HIGHEST_PROTOCOL)"
   ]
  },
  {
   "cell_type": "code",
   "execution_count": 6,
   "metadata": {},
   "outputs": [],
   "source": [
    "# dict where key = user_id, value = list of song_ids\n",
    "user_song = train[['msno', 'song_id']].set_index('msno').groupby('msno')['song_id'].apply(list).to_dict()\n",
    "with open('user_song.dict', 'wb') as handle:\n",
    "    pickle.dump(user_song, handle, protocol=pickle.HIGHEST_PROTOCOL)"
   ]
  },
  {
   "cell_type": "code",
   "execution_count": 7,
   "metadata": {},
   "outputs": [],
   "source": [
    "# numpy array of sorted song_ids\n",
    "song_id = train['song_id'].values\n",
    "song_id.sort()\n",
    "with open('song_id.txt', 'wb') as handle:\n",
    "    pickle.dump(song_id, handle, protocol=pickle.HIGHEST_PROTOCOL)"
   ]
  },
  {
   "cell_type": "code",
   "execution_count": 8,
   "metadata": {},
   "outputs": [],
   "source": [
    "# numpy array of sorted user_ids\n",
    "user_id = train[['msno']].sort_values(by='msno').values[0]\n",
    "with open('user_id.txt', 'wb') as handle:\n",
    "    pickle.dump(user_id, handle, protocol=pickle.HIGHEST_PROTOCOL)"
   ]
  },
  {
   "cell_type": "code",
   "execution_count": 9,
   "metadata": {},
   "outputs": [],
   "source": [
    "# numpy array of [user_id, song_id] pairs sorted in the order of user_id\n",
    "user_song_tuple = train[['msno', 'song_id']].sort_values(by='msno').to_string(header=False, index=False, index_names=False).split('\\n')\n",
    "# user_song_tuple = '\\n'.join(['\\t'.join(row.split()) for row in user_song_tuple]) \n",
    "user_song_tuple = [row.split() for row in user_song_tuple]\n",
    "with open('user_song_tuple.txt', 'wb') as handle:\n",
    "    pickle.dump(user_song_tuple, handle, protocol=pickle.HIGHEST_PROTOCOL)"
   ]
  },
  {
   "cell_type": "code",
   "execution_count": 11,
   "metadata": {},
   "outputs": [],
   "source": [
    "# dict where key = song_id, value = list of persons (artists, composers, lyricists) of the song\n",
    "def make_person_list(row):\n",
    "    person_set = set()\n",
    "    for x in row['artist_name'].split('|'):\n",
    "        person_set.add(x.strip())\n",
    "    if not isinstance(row['composer'], float):\n",
    "        for x in row['composer'].split('|'):\n",
    "            person_set.add(x.strip())\n",
    "    if not isinstance(row['lyricist'], float):\n",
    "        for x in row['composer'].split('|'):\n",
    "            person_set.add(x.strip())\n",
    "    return list(person_set)\n",
    "\n",
    "person = songs[['song_id','artist_name', 'composer', 'lyricist']]\n",
    "person_list = person.apply(lambda x: make_person_list(x), axis=1)\n",
    "song_person = pd.concat([songs['song_id'], person_list], axis=1)\n",
    "song_person.columns=['song_id', 'person_list']\n",
    "song_person_dict = song_person.set_index('song_id')['person_list'].to_dict()\n",
    "with open('song_person.dict', 'wb') as handle:\n",
    "    pickle.dump(song_person_dict, handle, protocol=pickle.HIGHEST_PROTOCOL)"
   ]
  },
  {
   "cell_type": "markdown",
   "metadata": {},
   "source": [
    "## Deserialize checks (preview of output format)"
   ]
  },
  {
   "cell_type": "code",
   "execution_count": 18,
   "metadata": {
    "scrolled": true
   },
   "outputs": [
    {
     "data": {
      "text/plain": [
       "['Vgeu+u3vXE0FhQtG/Vr3I/U3V0TX/jzQAEBhi3S3qi0=']"
      ]
     },
     "execution_count": 18,
     "metadata": {},
     "output_type": "execute_result"
    },
    {
     "data": {
      "text/plain": [
       "{'u6/Pb7X4u7KU4gXrBgGqt8RlRrNNFLn03tLAHyxRxwA=': ['rAI+tZ85/S4CEHBEhUkHDLO1afqVLArCu0nsBmORwfQ=',\n",
       "  'rAI+tZ85/S4CEHBEhUkHDLO1afqVLArCu0nsBmORwfQ=']}"
      ]
     },
     "execution_count": 18,
     "metadata": {},
     "output_type": "execute_result"
    },
    {
     "data": {
      "text/plain": [
       "array(['+Sm75wnBf/sjm/QMUAFx8N+Ae04kWCXGlgH50tTeM6c=',\n",
       "       '+u3iqLNaEoGlLwRbnbU0kM3CjctokMh1MPRFLrrzuQQ=',\n",
       "       '/2CWoqYh5/DUNi48voCXqA9V347liPy2WpEJj6CZro0=',\n",
       "       '/56EZoEb7TAm0G8GLJpA2Uzgg6QiJcYDwvI08I+w8JA=',\n",
       "       '/bU6IRSK+YNlNbaTkxo7bhsb2EDLPrnksdX3ggcZNhI='], dtype=object)"
      ]
     },
     "execution_count": 18,
     "metadata": {},
     "output_type": "execute_result"
    },
    {
     "data": {
      "text/plain": [
       "[['0LhkakIQDn36HZXI6ClQSO7W7jkpZAy+9MvYgPOZGrA=',\n",
       "  'MM+huiuccu4p5mNVhWxWgJreIsRWuEmvbvpCu0q79XM='],\n",
       " ['0LhkakIQDn36HZXI6ClQSO7W7jkpZAy+9MvYgPOZGrA=',\n",
       "  'K2jkXlozk/+HPjs1RyDlBUHJx2Ky+ITavwBXPcFqtHY='],\n",
       " ['0LhkakIQDn36HZXI6ClQSO7W7jkpZAy+9MvYgPOZGrA=',\n",
       "  'L6w2d0w84FjTvFr+BhMfgu7dZAsGiOqUGmvvxIG3gvQ='],\n",
       " ['0LhkakIQDn36HZXI6ClQSO7W7jkpZAy+9MvYgPOZGrA=',\n",
       "  'LBFRdBacp7Ob6Ada2N7uCQ47DhiNT2KjUtwOA7oSm7I='],\n",
       " ['0LhkakIQDn36HZXI6ClQSO7W7jkpZAy+9MvYgPOZGrA=',\n",
       "  'NDtSbLpLMkWyBAhfRimU73D/pKVWE6Z3Q2IEdmFuWNk=']]"
      ]
     },
     "execution_count": 18,
     "metadata": {},
     "output_type": "execute_result"
    },
    {
     "data": {
      "text/plain": [
       "{'CXoTN1eb7AI+DntdU1vbcwGRV4SCIDxZu+YD8JP8r4E=': ['張信哲 (Jeff Chang)', '董貞'],\n",
       " 'o0kFgae9QtnYgRkVPqLJwa05zIhRlUjfF7O1tDw0ZDU=': ['BLACKPINK',\n",
       "  'FUTURE BOUNCE',\n",
       "  'Bekuh BOOM',\n",
       "  'TEDDY'],\n",
       " 'dKMBWoZyScdxSkihKG+Vf47nc18N9q4m58+b4e7dSSE=': ['湯小康', 'S.H.E'],\n",
       " 'W3bqWd3T+VeHFzHAUfARgW9AvVRaF4N5Yzm4Mr6Eo/o=': ['Traditional', '貴族精選'],\n",
       " 'kKJ2JNU5h8rphyW21ovC+RZU+yEHPM+3w85J37p7vEQ=': ['Joe Hisaishi', '貴族精選'],\n",
       " 'N9vbanw7BSMoUgdfJlgX1aZPE1XZg8OS1wf88AQEcMc=': ['Jonathan Lee',\n",
       "  '伍佰 & China Blue'],\n",
       " 'GsCpr618xfveHYJdo+E5SybrpR906tsjLMeKyrCNw8s=': ['光良 (Michael Wong)', '光良'],\n",
       " 'oTi7oINPX+rxoGp+3O6llSltQTl80jDqHoULfRoLcG4=': ['林俊傑 (JJ Lin)', 'JJ Lin'],\n",
       " 'btcG03OHY3GNKWccPP0auvtSbhxog/kllIIOx5grE/k=': ['Vincent May',\n",
       "  'Jacknife Lee',\n",
       "  'Kodaline',\n",
       "  'Mark Prendergast',\n",
       "  'Stephen Garrigan',\n",
       "  'Jason Boland'],\n",
       " 'HulM/OaHgD5kUyjNQjDUf8VZdsy7h4EJUIff79Cifwo=': ['陳偉強',\n",
       "  'D.L 羅時豐 (Daniel Lo)'],\n",
       " 'wypPzqFNdUJAqyBVxmFGaK4z7krUNWr5YqA0q0wi9eE=': ['白安', '白安 (Ann)'],\n",
       " 'fAZLdfQaLG76a6Ei4alt1eSjBM9rshQkiQEC6+n+y08=': ['Littlesong',\n",
       "  'Michael William Balfe'],\n",
       " 'tqBlH4r/q1Tf6C5+C6ucjGlLjMbfu5yjqB6ifRzy5dc=': ['蔡旻佑', '蔡旻佑 (Evan Yo)'],\n",
       " 'an6EdIr+Z+KbqIVQiXn5PKkcXncefQ7hhWONseRuub4=': ['Guy Berryman',\n",
       "  'Will Champion',\n",
       "  'Tor Erik Hermansen',\n",
       "  'Coldplay',\n",
       "  'Jonny Buckland',\n",
       "  'Chris Martin',\n",
       "  'Mikkel S Eriksen'],\n",
       " 'J2MFmy8iF94mExWfRWE3KxsMZB+ZIedV5liqZoSrERQ=': ['Maggie Rogers',\n",
       "  'Nicholas Das'],\n",
       " 'MrRilXQwoUAcoAf0N3RT82qX2/us/wEhYDXE+ZTIW5o=': ['小男孩樂團 (Men Envy Children)',\n",
       "  'Skot Suyama陶山/\"蔡詩蕓 Dominique Tsai\"'],\n",
       " 'OcG4Ya7iXmVMCMy24C5wxDMtr9w6WQZiFaN0uq6zdTk=': ['TAEYANG',\n",
       "  'BIGBANG',\n",
       "  'TEDDY'],\n",
       " '3Po6v5nAk+ACnmTgGF4maCQNwWCuCT9BSR13M5c8KG8=': ['嚴藝丹', '步步驚心主題曲原聲EP'],\n",
       " 'IV8kTOBKcUoO4fINEi+VTYzr7TdyM/kin+gapgzygco=': ['Max Martin',\n",
       "  'Henry Walter',\n",
       "  'Lukasz Gottwald',\n",
       "  'Katy Perry'],\n",
       " 'XtT+taE0f0Ua5O96nZ48vW+r8YwRgO6WdWOoJmmDUNU=': ['劉若英 (Rene Liu)', '張起政'],\n",
       " 'XVdugYtHPN1vCK/8rsZZj/5MX8wv421d4unsaOpPq7I=': ['傅又宣 (Maggie Fu)', '陶山'],\n",
       " 'SONqxocCptA85J/tJ1hGlTVbQxs+x1gokyes79xZFO0=': ['Yasutaka Nakata',\n",
       "  'Kyary Pamyu Pamyu (きゃりーぱみゅぱみゅ)'],\n",
       " 'Co8PcF2DeW+i14x4xSwe7YFkJKAm1B8SZNXdVTpsljc=': ['品冠', '品冠 (Victor Wong)'],\n",
       " '+M/yM08pYwOznHRvf9Aj95A9M85wn4/jsTX0ye1KR2c=': ['Timothy Mckenzie',\n",
       "  'Abel Tesfaye',\n",
       "  'The Weeknd',\n",
       "  'Carlo Montagnese'],\n",
       " '+dOlHQGlsiHPbG1cMYsoFVsAi05YgsGfeEzsdS16yec=': ['Odell Brown',\n",
       "  'Marvin Gaye',\n",
       "  'Marvin Gaye & Kygo',\n",
       "  'David Ritz'],\n",
       " 'gG3/58uZyyOwaPT+eGWL81mwCzcDPW2EmwYcjWmvJSs=': ['阿信', '五月天 (Mayday)'],\n",
       " 'Sh6niIO6WYyFZbTX66CmEW8GphrK8tdmm3mpEpJL2dg=': ['黃鴻升 (Alien Huang)', '康友韋'],\n",
       " 'QXxwXFuL2yNKyn2NM68uV7RJ2AaJukZeGPvu+y6kCJU=': ['阿達/廖偉傑',\n",
       "  '陳大天 (Daniel Chen)'],\n",
       " 'NV9HhUzyK50tGvxb3w0PdZoaw3Ypp86XDmmMr0vgFdg=': ['John Stephens',\n",
       "  'John Legend'],\n",
       " 'PFTxx8m3p9Sy3z0tkE/Tfysm4c4AXGSNTzVY6FM/Qag=': ['金大洲', 'A-Lin'],\n",
       " 'fL+kYiefBmixA+rraUsD9svI5GrPBM1yUVmuft4cZVU=': ['周佳佑', '花兒 (林佳音)'],\n",
       " 'mHwy8WSNpd4E03pxeZ2vZJOSwFyjI9D/q8MpD2qpQ2k=': ['李玉璽 (Dino Lee)', '李玉璽'],\n",
       " 'OLnB6amnCTMEz5KxrV7pdkXJWB+fnMoWVJSzv2AlBLk=': ['Westlife',\n",
       "  'Hammond',\n",
       "  'Bettis'],\n",
       " 'vzWZd7svSo4Xc/kUMEtRuAJkupQIGqcPeTqESWz84UQ=': ['이상호 (Lee Sang Ho)',\n",
       "  'JUNIEL',\n",
       "  'TWO FACE'],\n",
       " 'DhAkZvlnryiYENIhuxu1FtJeYJzmEZxDBQO8qaxx/hY=': ['蔡旻佑', '蔡旻佑 (Evan Yo)'],\n",
       " 'aoojHrvDew9JNvFIVh9b7DQtdCIk44GwF6hrvjl+Eb0=': ['David Brown',\n",
       "  'Brandon Alexander Hodge',\n",
       "  'Mary J. Blige',\n",
       "  'Charles Hinshaw Jr'],\n",
       " 'igUq5ErBzlm2Wi05YsoiyWdxd4wbHGPaFOS8kQFhoik=': ['Gwon Soonil',\n",
       "  'Park Yongin',\n",
       "  'Urban Zakapa',\n",
       "  'Choi JaeMan',\n",
       "  'Jo HyunAh'],\n",
       " '/pNJtPeT5RixL9cwAScQ83XG6lzNjQbxXdz9Bxm3UCk=': ['公版', '蘇曼竹巴仁波切'],\n",
       " 'v27+O2w69lwrw/luclRexIr/mdGNCJJp/EBhmsLje40=': ['吳克群 (Kenji Wu)', '吳克羣'],\n",
       " 'dzAyth7bpVgPJ7ACTj/lnj6gXYJV1Yo9aetyqb1+lps=': ['蔡健雅', '蔡健雅 (Tanya Chua)'],\n",
       " 'x/sJa7GF5nZ36aAl5lDSjSJPVlobOx6ROZ3qB33RhMY=': ['蔡健雅', '蔡健雅 (Tanya Chua)'],\n",
       " 'dreY/kjMvCt9eb1J37gtistePo+3djW1+GeNz2oRQc4=': ['Lorde',\n",
       "  'Joel Little',\n",
       "  \"Ella Yelich O'Connor\"],\n",
       " 'qw3PGnq5FcsA5vdkuxQZN+lf7iteNiRmzULg5ir1OR4=': ['鄒宗翰 (Hans Zou)', '陳威全'],\n",
       " 'vLLKr+iN+vepbTD6W2kDXHvuqmGiXGdXRRHLjRp0pCQ=': ['原力歌手', '王苒馨'],\n",
       " 'IouVtHBa0SRl7CqYwGkyvN7Vu7drl0Llq9swfIXwLx8=': ['鄭伊健 (Ekin Cheng)', '陳光榮'],\n",
       " 'dMJhInRHA2CBEE+2fLKScDETkr/t/pJUQVUAdsyqG+4=': ['2013網路票選權威歌曲', '高進'],\n",
       " 'pSQ3cGYcIqXKM0dF5FSVCb716N9Xwa0Ka8u0xBORvFs=': ['劉若英 (Rene Liu)',\n",
       "  '木蘭號AKA陳韋伶'],\n",
       " '7+fRD95hiSFVW77AcaGk9asl9JBkQ7uXoeKqBltRdFg=': ['Simon Rix',\n",
       "  'Ricky Wilson',\n",
       "  'Vijay Mistry',\n",
       "  'Kaiser Chiefs',\n",
       "  'Nick Baines',\n",
       "  'Xenomania',\n",
       "  'Danny Shah'],\n",
       " 'v91olyybN9ksMslVNo8ZdbOwj/gtBv4VzK35LEk0B/M=': ['周杰倫', '周杰倫 (Jay Chou)'],\n",
       " 'zLH4sXtrHP4Hu23vzKPbYbu7zm1Z8deQQM6wDrORgkE=': ['李翊君', 'T.C. Liu'],\n",
       " 'WJHs/1KOxBLRJcaA4SoaloHh5jwb5ZhGnjx0RwHlZ3s=': ['Deep White/Arys Chien',\n",
       "  '孫燕姿 (Yanzi Sun)'],\n",
       " 'UbOpoUBp1iIUNLnZi886sQMjyWI6EdQHpMYshJaXHVc=': ['蕭煌奇 (Ricky Hsiao)',\n",
       "  'Hsiao Huang Chi'],\n",
       " 'q0uoD+Tb1VDtc5Srw0G3wJnxFeUTM5rVoPzvwMszedE=': ['Yui Aragaki (新垣結衣)',\n",
       "  'Kubo Kenji',\n",
       "  'Kenji Kubo'],\n",
       " 'zyO10vXfMjUGAE7XqKbK2pS8VGN8dWZ6s2PsD8gbKJk=': ['蕭煌奇 (Ricky Hsiao)', '蕭煌奇'],\n",
       " 'veeW5CZtHxWRT6rznk1m0uUZs1Zp0/UKKdpz64dP9Vo=': ['林家謙', '林宥嘉 (Yoga Lin)'],\n",
       " 'R+NIpdw3uc5e71o5+BhPyPidezdJeLGzDNDuxoiYWPE=': ['林宇中', 'BY2'],\n",
       " 'M14BA1BgGok4TpRqNp2/YITHmSvP1CJwIvifkNENSf8=': ['花兒 (林佳音)', 'WG'],\n",
       " 'SWVyLXlJtVtH6RT55x5SAk9GizXu4KUS9jPFfinsrEQ=': ['久石\\u3000譲', 'ジブリサウンドトラック'],\n",
       " 'R/AOsz3pUshdY/o9mkBoLbJKMxQlf7cgjvEEOifJwkI=': ['PDOGG',\n",
       "  'SUGA',\n",
       "  'HIRO',\n",
       "  'RAP MONSTER',\n",
       "  'J-HOPE',\n",
       "  'BANGTAN BOYS',\n",
       "  'UTA'],\n",
       " 'o8I8zqepEor1Vf4Wvb0MW65KK14xPFVm672bLCDPZZ0=': ['黑錢幫 (G$MOB)',\n",
       "  'Chris Wiebe'],\n",
       " 'oO+abG+WVeSmJlb9LLUZlg9GiCFuZ+AsMEGVlR33BFg=': ['李欣芸 (CinCin Lee)', '許嫚烜'],\n",
       " 'avP7uvxItW2p0aTKfVvAHEzKRF+4UrAN05oK0BiIGIQ=': ['海角七號電影原聲帶', '駱集益'],\n",
       " 'ejj7FbqTWzqJeZJeYyAlhAoH8D/S3+FQN1La0IOxuyI=': ['孫盛希/Skot Suyama 陶山',\n",
       "  '孫盛希 (Shi Shi)'],\n",
       " 'Noeu7vuMPsE0YOVjjER8noULjFaZC7VFnRAdJ5EsHzA=': ['Gigi Leung',\n",
       "  '鄭秀文 (Sammi Cheng)'],\n",
       " 'skCaG6fywLmpJaTNeqL89sis3vUydYzd+HLnBy9DsiE=': ['David Guetta',\n",
       "  'Giorgio H. Tuinfort'],\n",
       " '/XuPT2n3/VjGZuKKCxEwj97F6DRWiyBmFQpoZN8I5/M=': ['Yasutaka Nakata',\n",
       "  'Kyary Pamyu Pamyu (きゃりーぱみゅぱみゅ)'],\n",
       " 'XCLTSwcKdd4emAdtdyYPKU8XPCJwh0GH2JwQhI4Bf0U=': ['John L. Cooper',\n",
       "  'Korey Cooper',\n",
       "  'Skillet']}"
      ]
     },
     "execution_count": 18,
     "metadata": {},
     "output_type": "execute_result"
    }
   ],
   "source": [
    "with open('song_user.dict', 'rb') as handle:\n",
    "    unserialized_song_user = pickle.load(handle)\n",
    "unserialized_song_user['BBzumQNXUHKdEBOB7mAJuzok+IJA1c2Ryg/yzTF6tik='] # one instance\n",
    "{k: v for k, v in unserialized_song_user.items() if len(v) >1} # to show that the list is working\n",
    "\n",
    "with open('song_id.txt', 'rb') as handle:\n",
    "    unserialized_song_id = pickle.load(handle)\n",
    "unserialized_song_id[:5]\n",
    "\n",
    "with open('user_song_tuple.txt', 'rb') as handle:\n",
    "    unserialized_user_song_tuple = pickle.load(handle)\n",
    "unserialized_user_song_tuple[:5]\n",
    "\n",
    "with open('song_person.dict', 'rb') as handle:\n",
    "    unserialized_song_person = pickle.load(handle)\n",
    "{k: v for k, v in unserialized_song_person.items() if len(v) >1} # to show that the list is working"
   ]
  },
  {
   "cell_type": "code",
   "execution_count": null,
   "metadata": {},
   "outputs": [],
   "source": []
  }
 ],
 "metadata": {
  "kernelspec": {
   "display_name": "Python 3",
   "language": "python",
   "name": "python3"
  },
  "language_info": {
   "codemirror_mode": {
    "name": "ipython",
    "version": 3
   },
   "file_extension": ".py",
   "mimetype": "text/x-python",
   "name": "python",
   "nbconvert_exporter": "python",
   "pygments_lexer": "ipython3",
   "version": "3.7.3"
  },
  "toc": {
   "base_numbering": 1,
   "nav_menu": {},
   "number_sections": true,
   "sideBar": true,
   "skip_h1_title": false,
   "title_cell": "Table of Contents",
   "title_sidebar": "Contents",
   "toc_cell": false,
   "toc_position": {},
   "toc_section_display": true,
   "toc_window_display": false
  }
 },
 "nbformat": 4,
 "nbformat_minor": 2
}
