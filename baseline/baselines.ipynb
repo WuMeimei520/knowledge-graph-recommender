{
 "cells": [
  {
   "cell_type": "code",
   "execution_count": null,
   "metadata": {},
   "outputs": [],
   "source": [
    "import numpy as np\n",
    "from scipy.io import mmread, mmwrite\n",
    "from scipy import sparse\n",
    "import sys\n",
    "sys.path.append(\"/Users/zhouyangqiaoyu/Desktop/repo/knowledge-graph-recommender/\")\n",
    "from bpr import *"
   ]
  },
  {
   "cell_type": "code",
   "execution_count": null,
   "metadata": {},
   "outputs": [],
   "source": [
    "np_matrix = np.random.randint(2, size=(20,30))"
   ]
  },
  {
   "cell_type": "code",
   "execution_count": null,
   "metadata": {},
   "outputs": [],
   "source": [
    "np_matrix.shape"
   ]
  },
  {
   "cell_type": "code",
   "execution_count": null,
   "metadata": {},
   "outputs": [],
   "source": [
    "scipy_matrix = sparse.csr_matrix(np_matrix)"
   ]
  },
  {
   "cell_type": "code",
   "execution_count": null,
   "metadata": {},
   "outputs": [],
   "source": [
    "scipy_matrix"
   ]
  },
  {
   "cell_type": "code",
   "execution_count": null,
   "metadata": {},
   "outputs": [],
   "source": [
    "#mmwrite('/Users/zhouyangqiaoyu/Desktop/test_matrix.mtx', scipy_matrix, comment='', field=None, precision=None, symmetry=None)"
   ]
  },
  {
   "cell_type": "code",
   "execution_count": null,
   "metadata": {},
   "outputs": [],
   "source": [
    "#read_matrix = mmread('/Users/zhouyangqiaoyu/Desktop/test_matrix.mtx').tocsr()"
   ]
  },
  {
   "cell_type": "code",
   "execution_count": null,
   "metadata": {},
   "outputs": [],
   "source": [
    "#read_matrix"
   ]
  },
  {
   "cell_type": "code",
   "execution_count": null,
   "metadata": {},
   "outputs": [],
   "source": [
    "#data = read_matrix\n",
    "data  = scipy_matrix "
   ]
  },
  {
   "cell_type": "code",
   "execution_count": null,
   "metadata": {},
   "outputs": [],
   "source": [
    "args = BPRArgs()\n",
    "args.learning_rate = 0.3\n",
    "\n",
    "num_factors = 10\n",
    "model = BPR(num_factors,args)\n",
    "\n",
    "sample_negative_items_empirically = True\n",
    "sampler = UniformPairWithoutReplacement(sample_negative_items_empirically)\n",
    "num_iters = 10\n",
    "model.train(data,sampler,num_iters)"
   ]
  },
  {
   "cell_type": "code",
   "execution_count": null,
   "metadata": {},
   "outputs": [],
   "source": []
  }
 ],
 "metadata": {
  "kernelspec": {
   "display_name": "Python 3",
   "language": "python",
   "name": "python3"
  },
  "language_info": {
   "codemirror_mode": {
    "name": "ipython",
    "version": 3
   },
   "file_extension": ".py",
   "mimetype": "text/x-python",
   "name": "python",
   "nbconvert_exporter": "python",
   "pygments_lexer": "ipython3",
   "version": "3.6.8"
  }
 },
 "nbformat": 4,
 "nbformat_minor": 2
}
