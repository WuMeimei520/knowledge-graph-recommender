{
 "cells": [
  {
   "cell_type": "code",
   "execution_count": 1,
   "metadata": {},
   "outputs": [],
   "source": [
    "import pickle\n",
    "import pandas as pd\n",
    "import numpy as np\n",
    "import math\n",
    "import random\n",
    "from tqdm import tqdm\n",
    "from IPython.core.interactiveshell import InteractiveShell\n",
    "InteractiveShell.ast_node_interactivity = \"all\""
   ]
  },
  {
   "cell_type": "code",
   "execution_count": 2,
   "metadata": {},
   "outputs": [],
   "source": [
    "with open('song_id.txt', 'rb') as handle:\n",
    "    unserialized_song_id = pickle.load(handle)\n",
    "\n",
    "with open('user_song.dict', 'rb') as handle:\n",
    "    unserialized_user_song = pickle.load(handle)\n",
    "    \n",
    "with open('user_song_tuple.txt', 'rb') as handle:\n",
    "    unserialized_user_song_tuple = pickle.load(handle)"
   ]
  },
  {
   "cell_type": "code",
   "execution_count": 3,
   "metadata": {},
   "outputs": [
    {
     "name": "stderr",
     "output_type": "stream",
     "text": [
      "  0%|          | 0/30755 [00:00<?, ?it/s]\n"
     ]
    },
    {
     "ename": "NameError",
     "evalue": "name 'songs' is not defined",
     "output_type": "error",
     "traceback": [
      "\u001b[0;31m---------------------------------------------------------------------------\u001b[0m",
      "\u001b[0;31mNameError\u001b[0m                                 Traceback (most recent call last)",
      "\u001b[0;32m<ipython-input-3-da14ee3bdf3d>\u001b[0m in \u001b[0;36m<module>\u001b[0;34m\u001b[0m\n\u001b[1;32m     17\u001b[0m     \u001b[0;32mfor\u001b[0m \u001b[0msong\u001b[0m \u001b[0;32min\u001b[0m \u001b[0mpos_songs\u001b[0m\u001b[0;34m[\u001b[0m\u001b[0;34m:\u001b[0m\u001b[0mcut\u001b[0m\u001b[0;34m]\u001b[0m\u001b[0;34m:\u001b[0m\u001b[0;34m\u001b[0m\u001b[0;34m\u001b[0m\u001b[0m\n\u001b[1;32m     18\u001b[0m         \u001b[0muser_song_tuple_train_pos\u001b[0m\u001b[0;34m.\u001b[0m\u001b[0mappend\u001b[0m\u001b[0;34m(\u001b[0m\u001b[0;34m[\u001b[0m\u001b[0muser\u001b[0m\u001b[0;34m,\u001b[0m \u001b[0msong\u001b[0m\u001b[0;34m]\u001b[0m\u001b[0;34m)\u001b[0m\u001b[0;34m\u001b[0m\u001b[0;34m\u001b[0m\u001b[0m\n\u001b[0;32m---> 19\u001b[0;31m     \u001b[0muser_song_test\u001b[0m\u001b[0;34m[\u001b[0m\u001b[0muser\u001b[0m\u001b[0;34m]\u001b[0m \u001b[0;34m=\u001b[0m \u001b[0msongs\u001b[0m\u001b[0;34m[\u001b[0m\u001b[0mcut\u001b[0m\u001b[0;34m:\u001b[0m\u001b[0;34m]\u001b[0m\u001b[0;34m\u001b[0m\u001b[0;34m\u001b[0m\u001b[0m\n\u001b[0m\u001b[1;32m     20\u001b[0m     \u001b[0;32mfor\u001b[0m \u001b[0msong\u001b[0m \u001b[0;32min\u001b[0m \u001b[0mpos_songs\u001b[0m\u001b[0;34m[\u001b[0m\u001b[0mcut\u001b[0m\u001b[0;34m:\u001b[0m\u001b[0;34m]\u001b[0m\u001b[0;34m:\u001b[0m\u001b[0;34m\u001b[0m\u001b[0;34m\u001b[0m\u001b[0m\n\u001b[1;32m     21\u001b[0m         \u001b[0muser_song_tuple_test_pos\u001b[0m\u001b[0;34m.\u001b[0m\u001b[0mappend\u001b[0m\u001b[0;34m(\u001b[0m\u001b[0;34m[\u001b[0m\u001b[0muser\u001b[0m\u001b[0;34m,\u001b[0m \u001b[0msong\u001b[0m\u001b[0;34m]\u001b[0m\u001b[0;34m)\u001b[0m\u001b[0;34m\u001b[0m\u001b[0;34m\u001b[0m\u001b[0m\n",
      "\u001b[0;31mNameError\u001b[0m: name 'songs' is not defined"
     ]
    }
   ],
   "source": [
    "user_song_train = {}\n",
    "user_song_test = {}\n",
    "user_song_tuple_train_pos = []\n",
    "user_song_tuple_train_neg = []\n",
    "user_song_tuple_test_pos = []\n",
    "user_song_tuple_test_neg = []\n",
    "\n",
    "song_id_set = set(unserialized_song_id)\n",
    "\n",
    "for user in tqdm(unserialized_user_song):\n",
    "    \n",
    "    # pos\n",
    "    pos_songs = unserialized_user_song[user]\n",
    "    random.shuffle(pos_songs)\n",
    "    cut = int(len(pos_songs)*0.8)\n",
    "    user_song_train[user] = pos_songs[:cut]\n",
    "    for song in pos_songs[:cut]:\n",
    "        user_song_tuple_train_pos.append([user, song])\n",
    "    user_song_test[user] = songs[cut:]\n",
    "    for song in pos_songs[cut:]:\n",
    "        user_song_tuple_test_pos.append([user, song])\n",
    "        \n",
    "    # neg\n",
    "    pos_song_set = set(pos_songs)\n",
    "    neg_song_set = song_id_set - pos_song_set\n",
    "    neg_songs = list(neg_song_set)\n",
    "    \n",
    "    train_neg_len = len(user_song_train[user])*4\n",
    "    test_neg_len = len(user_song_test[user])*100\n",
    "    \n",
    "    for user in unserialized_user_song:\n",
    "        total_neg_len = train_neg_len + test_neg_len\n",
    "        \n",
    "        if total_neg_len > len(neg_songs):\n",
    "            neg_songs_shuffled = [neg_songs[i] for i in np.random.choice(len(neg_songs), len(neg_songs), replace=False)]\n",
    "            if train_neg_len > len(neg_songs):\n",
    "                user_song_tuple_train_neg.extend([[user, song] for song in neg_songs_shuffled])\n",
    "            else:\n",
    "                user_song_tuple_train_neg.extend([[user, song] for song in neg_songs_shuffled[:train_neg_len]])\n",
    "                user_song_tuple_test_neg.extend([[user, song] for song in neg_songs_shuffled[train_neg_len:]])\n",
    "        else:s\n",
    "            neg_songs_shuffled_index = np.random.choice(5, 3, replace=False)\n",
    "            i = 0\n",
    "            while i < len(train_neg_len):\n",
    "                user_song_tuple_train_neg.append([user, neg_songs[neg_songs_shuffled_index[i]]])\n",
    "                i += 1\n",
    "            while i < len(train_neg_len + test_neg_len):\n",
    "                user_song_tuple_test_neg.append([user, neg_songs[neg_songs_shuffled_index[i]]])\n",
    "                i += 1"
   ]
  },
  {
   "cell_type": "code",
   "execution_count": null,
   "metadata": {},
   "outputs": [],
   "source": [
    "with open('user_song_train.dict', 'wb') as handle:\n",
    "    pickle.dump(user_song_train, handle, protocol=pickle.HIGHEST_PROTOCOL)\n",
    "with open('user_song_test.dict', 'wb') as handle:\n",
    "    pickle.dump(user_song_test, handle, protocol=pickle.HIGHEST_PROTOCOL)\n",
    "with open('user_song_tuple_train_pos.txt', 'wb') as handle:\n",
    "    pickle.dump(user_song_tuple_train_pos, handle, protocol=pickle.HIGHEST_PROTOCOL)\n",
    "with open('user_song_tuple_train_neg.txt', 'wb') as handle:\n",
    "    pickle.dump(user_song_tuple_train_neg, handle, protocol=pickle.HIGHEST_PROTOCOL)\n",
    "with open('user_song_tuple_test_pos.txt', 'wb') as handle:\n",
    "    pickle.dump(user_song_tuple_test_pos, handle, protocol=pickle.HIGHEST_PROTOCOL)\n",
    "with open('user_song_tuple_test_neg.txt', 'wb') as handle:\n",
    "    pickle.dump(user_song_tuple_test_neg, handle, protocol=pickle.HIGHEST_PROTOCOL)"
   ]
  },
  {
   "cell_type": "code",
   "execution_count": null,
   "metadata": {},
   "outputs": [],
   "source": []
  }
 ],
 "metadata": {
  "kernelspec": {
   "display_name": "Python 3",
   "language": "python",
   "name": "python3"
  },
  "language_info": {
   "codemirror_mode": {
    "name": "ipython",
    "version": 3
   },
   "file_extension": ".py",
   "mimetype": "text/x-python",
   "name": "python",
   "nbconvert_exporter": "python",
   "pygments_lexer": "ipython3",
   "version": "3.7.3"
  },
  "toc": {
   "base_numbering": 1,
   "nav_menu": {},
   "number_sections": true,
   "sideBar": true,
   "skip_h1_title": false,
   "title_cell": "Table of Contents",
   "title_sidebar": "Contents",
   "toc_cell": false,
   "toc_position": {},
   "toc_section_display": true,
   "toc_window_display": false
  }
 },
 "nbformat": 4,
 "nbformat_minor": 2
}
