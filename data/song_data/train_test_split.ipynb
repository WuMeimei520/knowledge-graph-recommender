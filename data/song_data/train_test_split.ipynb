{
 "cells": [
  {
   "cell_type": "code",
   "execution_count": null,
   "metadata": {},
   "outputs": [],
   "source": [
    "import pickle\n",
    "import pandas as pd\n",
    "import numpy as np\n",
    "import math\n",
    "import random\n",
    "from tqdm import tqdm\n",
    "from time import sleep\n",
    "from IPython.core.interactiveshell import InteractiveShell\n",
    "InteractiveShell.ast_node_interactivity = \"all\""
   ]
  },
  {
   "cell_type": "code",
   "execution_count": null,
   "metadata": {},
   "outputs": [],
   "source": [
    "with open('../song_data/dense_song_user_edges.dict', 'rb') as handle:\n",
    "    songs1 = set(pickle.load(handle).keys())\n",
    "    \n",
    "with open('../song_data/dense_song_person_edges.dict', 'rb') as handle:\n",
    "    songs2 = set(pickle.load(handle).keys())\n",
    "\n",
    "with open('../song_data/dense_user_song_edges.dict', 'rb') as handle:\n",
    "    user_song = pickle.load(handle)"
   ]
  },
  {
   "cell_type": "code",
   "execution_count": null,
   "metadata": {},
   "outputs": [],
   "source": [
    "# KG and positive\n",
    "user_song_train = {}\n",
    "user_song_test = {}\n",
    "user_song_tuple_train_pos = []\n",
    "user_song_tuple_test_pos = []\n",
    "\n",
    "song_id_set = songs1|songs2\n",
    "\n",
    "for user in tqdm(user_song):\n",
    "    pos_songs = user_song[user]\n",
    "    random.shuffle(pos_songs)\n",
    "    cut = int(len(pos_songs)*0.8)\n",
    "    user_song_train[user] = pos_songs[:cut]\n",
    "    for song in pos_songs[:cut]:\n",
    "        user_song_tuple_train_pos.append([user, song])\n",
    "    user_song_test[user] = pos_songs[cut:]\n",
    "    for song in pos_songs[cut:]:\n",
    "        user_song_tuple_test_pos.append([user, song])\n",
    "  "
   ]
  },
  {
   "cell_type": "code",
   "execution_count": null,
   "metadata": {},
   "outputs": [],
   "source": [
    "with open('user_song_train_dense.dict', 'wb') as handle:\n",
    "    pickle.dump(user_song_train, handle, protocol=pickle.HIGHEST_PROTOCOL)\n",
    "with open('user_song_test_dense.dict', 'wb') as handle:\n",
    "    pickle.dump(user_song_test, handle, protocol=pickle.HIGHEST_PROTOCOL)\n",
    "with open('user_song_tuple_train_pos_dense.txt', 'wb') as handle:\n",
    "    pickle.dump(user_song_tuple_train_pos, handle, protocol=pickle.HIGHEST_PROTOCOL)\n",
    "with open('user_song_tuple_test_pos_dense.txt', 'wb') as handle:\n",
    "    pickle.dump(user_song_tuple_test_pos, handle, protocol=pickle.HIGHEST_PROTOCOL)"
   ]
  },
  {
   "cell_type": "code",
   "execution_count": null,
   "metadata": {},
   "outputs": [],
   "source": [
    "# negative\n",
    "user_song_tuple_train_neg = []\n",
    "user_song_tuple_test_neg = []\n",
    "\n",
    "for user in tqdm(user_song):\n",
    "    pos_song_set = set(user_song[user])\n",
    "    neg_song_set = song_id_set - pos_song_set\n",
    "    neg_songs = list(neg_song_set)\n",
    "    \n",
    "    train_neg_len = len(user_song_train[user])*4\n",
    "    test_neg_len = len(user_song_test[user])*100\n",
    "    total_neg_len = train_neg_len + test_neg_len\n",
    "        \n",
    "    if total_neg_len > len(neg_songs):\n",
    "        neg_songs_shuffled = [neg_songs[i] for i in np.random.choice(len(neg_songs), len(neg_songs), replace=False)]\n",
    "        if train_neg_len > len(neg_songs):\n",
    "            user_song_tuple_train_neg.extend([[user, song] for song in neg_songs_shuffled])\n",
    "        else:\n",
    "            user_song_tuple_train_neg.extend([[user, song] for song in neg_songs_shuffled[:train_neg_len]])\n",
    "            user_song_tuple_test_neg.extend([[user, song] for song in neg_songs_shuffled[train_neg_len:]])\n",
    "    else:\n",
    "        neg_songs_shuffled_index = np.random.choice(len(neg_songs), total_neg_len, replace=False)\n",
    "        i = 0\n",
    "        while i < train_neg_len:\n",
    "            user_song_tuple_train_neg.append([user, neg_songs[neg_songs_shuffled_index[i]]])\n",
    "            i += 1\n",
    "        while i < train_neg_len + test_neg_len:\n",
    "            user_song_tuple_test_neg.append([user, neg_songs[neg_songs_shuffled_index[i]]])\n",
    "            i += 1"
   ]
  },
  {
   "cell_type": "code",
   "execution_count": null,
   "metadata": {},
   "outputs": [],
   "source": [
    "with open('user_song_tuple_train_neg_dense.txt', 'wb') as handle:\n",
    "    pickle.dump(user_song_tuple_train_neg, handle, protocol=pickle.HIGHEST_PROTOCOL)\n",
    "with open('user_song_tuple_test_neg_dense.txt', 'wb') as handle:\n",
    "    pickle.dump(user_song_tuple_test_neg, handle, protocol=pickle.HIGHEST_PROTOCOL)"
   ]
  },
  {
   "cell_type": "code",
   "execution_count": null,
   "metadata": {},
   "outputs": [],
   "source": []
  }
 ],
 "metadata": {
  "kernelspec": {
   "display_name": "Python 3",
   "language": "python",
   "name": "python3"
  },
  "language_info": {
   "codemirror_mode": {
    "name": "ipython",
    "version": 3
   },
   "file_extension": ".py",
   "mimetype": "text/x-python",
   "name": "python",
   "nbconvert_exporter": "python",
   "pygments_lexer": "ipython3",
   "version": "3.7.3"
  },
  "toc": {
   "base_numbering": 1,
   "nav_menu": {},
   "number_sections": true,
   "sideBar": true,
   "skip_h1_title": false,
   "title_cell": "Table of Contents",
   "title_sidebar": "Contents",
   "toc_cell": false,
   "toc_position": {},
   "toc_section_display": true,
   "toc_window_display": false
  }
 },
 "nbformat": 4,
 "nbformat_minor": 2
}
