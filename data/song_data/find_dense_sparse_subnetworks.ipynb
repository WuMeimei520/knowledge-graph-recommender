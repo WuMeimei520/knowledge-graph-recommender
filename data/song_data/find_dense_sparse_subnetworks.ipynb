{
 "cells": [
  {
   "cell_type": "code",
   "execution_count": null,
   "metadata": {},
   "outputs": [],
   "source": [
    "import pickle\n",
    "import pandas as pd\n",
    "import numpy as np\n",
    "import math"
   ]
  },
  {
   "cell_type": "code",
   "execution_count": null,
   "metadata": {},
   "outputs": [],
   "source": [
    "with open('song_user_entire.dict', 'rb') as handle:\n",
    "    unserialized_song_user = pickle.load(handle) #dict\n",
    "    \n",
    "with open('user_song_entire.dict', 'rb') as handle:\n",
    "    unserialized_user_song = pickle.load(handle) #dict\n",
    "\n",
    "with open('song_id_entire.txt', 'rb') as handle:\n",
    "    unserialized_song_id = pickle.load(handle) #numpy.ndarray\n",
    "    \n",
    "with open('user_id_entire.txt', 'rb') as handle:\n",
    "    unserialized_user_id = pickle.load(handle) #numpy.ndarray"
   ]
  },
  {
   "cell_type": "code",
   "execution_count": null,
   "metadata": {},
   "outputs": [],
   "source": [
    "# key: song, value: number of users listening to it \n",
    "song_degree = [(k,len(v)) for (k,v) in unserialized_song_user.items()]\n",
    "\n",
    "# sort by degree in descending order\n",
    "song_degree.sort(key = lambda x : -x[1])"
   ]
  },
  {
   "cell_type": "code",
   "execution_count": null,
   "metadata": {},
   "outputs": [],
   "source": [
    "# key: user, value: number of songs they listen to\n",
    "user_degree = [(k,len(v)) for (k,v) in unserialized_user_song.items()]\n",
    "\n",
    "# sort by degree in descending order\n",
    "user_degree.sort(key = lambda x : -x[1])"
   ]
  },
  {
   "cell_type": "code",
   "execution_count": null,
   "metadata": {},
   "outputs": [],
   "source": [
    "# construct sparse subnetwork\n",
    "# find the nodes\n",
    "sparse_net_song_nodes_holder = song_degree[-int(len(song_degree)*0.2):] #song_id is the first item in the tuple element of the returned list\n",
    "sparse_net_song_nodes = [node_holder[0] for node_holder in sparse_net_song_nodes_holder]\n",
    "\n",
    "sparse_net_user_nodes_holder = user_degree[-int(len(user_degree)*0.2):]\n",
    "sparse_net_user_nodes = [node_holder[0] for node_holder in sparse_net_user_nodes_holder]\n",
    "\n",
    "sparse_net_nodes = sparse_net_song_nodes + sparse_net_user_nodes\n",
    "\n",
    "# build the subnetwork --> find the edges\n",
    "sparse_net_edge = [] # a list of pairs (node1, node2)\n",
    "connect = []\n",
    "for i in sparse_net_nodes: # (node1, node2) and (node2, node1) both exist\n",
    "    if i in unserialized_song_user:\n",
    "        connect = unserialized_song_user[i]\n",
    "    elif i in unserialized_user_song:\n",
    "        connect = unserialized_user_song[i]\n",
    "    else:\n",
    "        print('Error: key error!')\n",
    "    new_edges = [(i, j) for j in connect]\n",
    "    sparse_net_edge.extend(new_edges)\n",
    "\n",
    "# compute the density heuristic \n",
    "sparse_net_density = len(sparse_net_edge)/(len(sparse_net_song_nodes)*len(sparse_net_user_nodes))"
   ]
  },
  {
   "cell_type": "code",
   "execution_count": null,
   "metadata": {},
   "outputs": [],
   "source": [
    "sparse_net_density"
   ]
  },
  {
   "cell_type": "code",
   "execution_count": null,
   "metadata": {},
   "outputs": [],
   "source": [
    "# construct dense subnetwork\n",
    "# find the nodes\n",
    "dense_net_song_nodes_holder = song_degree[:int(len(song_degree)*0.2)] #song_id is the first item in the tuple element of the returned list\n",
    "dense_net_song_nodes = [node_holder[0] for node_holder in dense_net_song_nodes_holder]\n",
    "\n",
    "dense_net_user_nodes_holder = user_degree[:int(len(user_degree)*0.2)]\n",
    "dense_net_user_nodes = [node_holder[0] for node_holder in dense_net_user_nodes_holder]\n",
    "\n",
    "dense_net_nodes = dense_net_song_nodes + dense_net_user_nodes\n",
    "\n",
    "# build the subnetwork --> find the edges\n",
    "dense_net_edge = [] # a list of pairs (node1, node2)\n",
    "connect = []\n",
    "for i in dense_net_nodes: # (node1, node2) and (node2, node1) both exist\n",
    "    if i in unserialized_song_user:\n",
    "        connect = unserialized_song_user[i]\n",
    "    elif i in unserialized_user_song:\n",
    "        connect = unserialized_user_song[i]\n",
    "    else:\n",
    "        print('Error: key error!')\n",
    "    new_edges = [(i, j) for j in connect]\n",
    "    dense_net_edge.extend(new_edges)\n",
    "\n",
    "# compute the density heuristic \n",
    "dense_net_density = len(dense_net_edge)/(len(dense_net_song_nodes)*len(dense_net_user_nodes))"
   ]
  },
  {
   "cell_type": "code",
   "execution_count": null,
   "metadata": {},
   "outputs": [],
   "source": [
    "dense_net_density"
   ]
  },
  {
   "cell_type": "code",
   "execution_count": null,
   "metadata": {},
   "outputs": [],
   "source": []
  }
 ],
 "metadata": {
  "kernelspec": {
   "display_name": "Python 3",
   "language": "python",
   "name": "python3"
  },
  "language_info": {
   "codemirror_mode": {
    "name": "ipython",
    "version": 3
   },
   "file_extension": ".py",
   "mimetype": "text/x-python",
   "name": "python",
   "nbconvert_exporter": "python",
   "pygments_lexer": "ipython3",
   "version": "3.6.8"
  }
 },
 "nbformat": 4,
 "nbformat_minor": 2
}
